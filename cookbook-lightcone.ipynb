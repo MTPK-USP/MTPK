{
 "cells": [
  {
   "cell_type": "markdown",
   "id": "e56f7ce7-a2b0-48b1-97e3-513ce99cc4bb",
   "metadata": {},
   "source": [
    "# Cookbook 2 - Computing the spectra for a lightcone\n",
    "\n",
    "Here we provide a recipe, detailing the functionality available in our set of packages, to compute the power spectra for a lightcone from [ExSHalos](https://arxiv.org/abs/1906.06630)"
   ]
  },
  {
   "cell_type": "markdown",
   "id": "3e937623-d69a-47cd-ae36-611badc2e812",
   "metadata": {},
   "source": [
    "### 0) Including the libraries"
   ]
  },
  {
   "cell_type": "code",
   "execution_count": 1,
   "id": "6dd32be3-3c9c-466b-bc9c-6c176fa19cee",
   "metadata": {},
   "outputs": [],
   "source": [
    "from catalog_specs import cat_specs #to set the catalog specifications\n",
    "from cosmo import cosmo #to set the cosmology\n",
    "from code_options import code_parameters #to set the cosmological parameters\n",
    "from converting_cats_in_cats_of_bins import * #To convert any tracer catalog according to bins of mass\n",
    "from colossus.cosmology import cosmology #To compute bias\n",
    "from colossus.lss import bias #To compute bias\n",
    "from create_grids_from_xyz_cats_beta import * #to build the cats\n",
    "from MTPK_estimate_beta import * #to estimate the spectra\n",
    "import numpy as np\n",
    "import matplotlib.pyplot as plt"
   ]
  },
  {
   "cell_type": "markdown",
   "id": "79c895ce-8036-4852-8ad4-bdf08073c90b",
   "metadata": {},
   "source": [
    "### 1) Instantiating the parameters"
   ]
  },
  {
   "cell_type": "markdown",
   "id": "5dab444a-5a43-46b6-a7ad-df447c967c1f",
   "metadata": {},
   "source": [
    "The fiducial **specifications** about the **catalogs** are given by:"
   ]
  },
  {
   "cell_type": "code",
   "execution_count": 3,
   "id": "d2679fde-35e6-4e6d-824f-d07b9bd922f8",
   "metadata": {},
   "outputs": [
    {
     "name": "stdout",
     "output_type": "stream",
     "text": [
      "ntracers = 1\n",
      "n_maps = 1\n",
      "col_m = 6\n",
      "col_x = 0\n",
      "col_y = 1\n",
      "col_z = 2\n",
      "x_cat_min = -135.61\n",
      "y_cat_min = -137.92\n",
      "z_cat_min = -136.46\n",
      "x_cat_max = 814.62\n",
      "y_cat_max = 817.44\n",
      "z_cat_max = 814.17\n",
      "m_min = 12.0\n",
      "m_max = 14.3\n"
     ]
    }
   ],
   "source": [
    "cat_specs = cat_specs(ntracers = 1, n_maps = 1, x_cat_min = -135.61,\n",
    "                           y_cat_min = -137.92, z_cat_min = -136.46, \n",
    "                           x_cat_max = 814.62, y_cat_max = 817.44,\n",
    "                           z_cat_max = 814.17, m_min = 12., \n",
    "                           m_max = 14.3)\n",
    "cat_specs.parameters_print()"
   ]
  },
  {
   "cell_type": "markdown",
   "id": "feb2ab0a-fc75-47f7-bf4a-cd44e44b514e",
   "metadata": {},
   "source": [
    "The cosmology is given by:"
   ]
  },
  {
   "cell_type": "code",
   "execution_count": 4,
   "id": "b054144f-0b3b-4c4d-b7de-e7f535c28d56",
   "metadata": {},
   "outputs": [
    {
     "name": "stdout",
     "output_type": "stream",
     "text": [
      "h = 0.678\n",
      "Omega0_b = 0.048206\n",
      "Omega0_cdm = 0.2589\n",
      "Omega0_k = 0.0\n",
      "Omega0_DE = 0.692894\n",
      "A_s = 2.1867466842075255e-09\n",
      "ln10e10AsA = 3.085\n",
      "n_s = 0.96\n",
      "w0 = -1.0\n",
      "w1 = 0.0\n",
      "z_re = 9.99999\n",
      "flat = True\n",
      "gamma = 0.5454\n",
      "matgrow = 0.5252511834620611\n",
      "zcentral = 0.15\n",
      "c_light = 299792.458\n"
     ]
    }
   ],
   "source": [
    "mg_phe = cosmo().f_phenomenological()\n",
    "my_cosmology = cosmo(matgrow = mg_phe, zcentral = 0.15)\n",
    "my_cosmology.parameters_print()"
   ]
  },
  {
   "cell_type": "markdown",
   "id": "178aa353-4dd1-4b72-8451-2ae5517380ad",
   "metadata": {},
   "source": [
    "### 2) Setting `MTPK code` options"
   ]
  },
  {
   "cell_type": "code",
   "execution_count": 5,
   "id": "dcf75039-afb9-4cc5-b637-b9a480b4cc88",
   "metadata": {},
   "outputs": [
    {
     "name": "stdout",
     "output_type": "stream",
     "text": [
      "verbose = True\n",
      "method = both\n",
      "mas_method = CIC\n",
      "ntracers = 1\n",
      "use_kdip_phys = False\n",
      "kdip_phys = 0.005\n",
      "multipoles_order = 4\n",
      "do_cross_spectra = False\n",
      "use_padding = False\n",
      "padding_length = [10, 10, 10]\n",
      "use_theory_spectrum = False\n",
      "theory_spectrum_file = theory_spectrum_file.txt\n",
      "use_mask = False\n",
      "mask_filename = mask.hdf5\n",
      "mass_fun = 0.01\n",
      "tracer_bias = 1.0\n",
      "cell_size = 8.0\n",
      "n_x = 120\n",
      "n_y = 120\n",
      "n_z = 120\n",
      "n_x_orig = -16.95\n",
      "n_y_orig = -17.24\n",
      "n_z_orig = -17.03\n",
      "sel_fun_data = False\n",
      "sel_fun_file = sel_fun-N128_halos.hdf5\n",
      "kmin_bias = 0.05\n",
      "kmax_bias = 0.15\n",
      "kph_central = 0.1\n",
      "dkph_bin = 0.005\n",
      "use_kmin_phys = True\n",
      "kmin_phys = 0.005\n",
      "use_kmax_phys = True\n",
      "kmax_phys = 0.08\n",
      "whichspec = 1\n",
      "mult_sel_fun = 1.0\n",
      "shift_sel_fun = 0.0\n",
      "k_min_CAMB = 0.0001\n",
      "k_max_CAMB = 1.0\n",
      "use_redshifts = False\n",
      "mask_redshift = False\n",
      "save_mask = False\n",
      "save_mean_sel_fun = False\n",
      "split_tracers = False\n",
      "tracer_bins = [3.16e+11 1.00e+12 3.16e+12 1.00e+13]\n",
      "mask_spillover_cells = False\n",
      "batch_size = 100000\n",
      "wrap = False\n"
     ]
    }
   ],
   "source": [
    "#Defining the code options\n",
    "my_code_options = code_parameters(method = 'both',\n",
    "                                  cell_size = 8.0,\n",
    "                                  mas_method = 'CIC',\n",
    "                                  multipoles_order = 4,\n",
    "                                  do_cross_spectra = False, \n",
    "                                  ntracers = 1,\n",
    "                                  mass_fun = np.array(0.01),\n",
    "                                  tracer_bias = np.array(1.0),\n",
    "                                  n_x = 120, n_y = 120, n_z = 120,\n",
    "                                  n_x_orig = - 16.95, \n",
    "                                  n_y_orig = - 17.24,\n",
    "                                  n_z_orig = - 17.03,\n",
    "                                  verbose = True, \n",
    "                                  batch_size = 100000, \n",
    "                                  kmin_bias = 0.05, kmax_bias = 0.15,\n",
    "                                  kph_central = 0.1, dkph_bin = 0.005, \n",
    "                                  use_kmin_phys = True, kmin_phys = 0.005,\n",
    "                                  use_kmax_phys = True, kmax_phys = 0.08)\n",
    "my_code_options.parameters_print()"
   ]
  },
  {
   "cell_type": "markdown",
   "id": "4218686b-8f49-48e6-83f2-85f5a5b6d54b",
   "metadata": {},
   "source": [
    "### 3) Creating the catalogs\n",
    "\n",
    "You can create the cats using `create_grids_from_xyz_cats_beta`"
   ]
  },
  {
   "cell_type": "code",
   "execution_count": 6,
   "id": "9c612ddd-f5b1-417f-9ab4-24bf5b6cefb5",
   "metadata": {},
   "outputs": [],
   "source": [
    "#User definitions about where to do each thing\n",
    "input_filename = 'lightcone'\n",
    "filenames_catalogs = 'data/lightcone/new_Lightcone_xyz.dat'\n",
    "dir_out = \"maps/sims/lightcone/\""
   ]
  },
  {
   "cell_type": "code",
   "execution_count": 7,
   "id": "548780bf-4a77-43a7-94b4-c3c97f6fd93b",
   "metadata": {},
   "outputs": [
    {
     "name": "stdout",
     "output_type": "stream",
     "text": [
      "\n",
      "Will load maps stored in files:\n",
      "[['data/lightcone/new_Lightcone_xyz.dat']]\n",
      "Dimensions of the grids: n_x, n_y, n_z = 120 120 120\n",
      "\n",
      "The actual catalog spans the ranges in x,y,z:\n",
      "x: -135.61 --> 814.62\n",
      "y: -137.92 --> 817.44\n",
      "z: -136.46 --> 814.17\n",
      "\n",
      "\n",
      "With the padding length, of  0 cells, the box will be filled with:\n",
      "x: ( 0 * 0 , 120 , 0 *0)\n",
      "y: ( 0 * 0 , 120 , 0 *0)\n",
      "z: ( 0 * 0 , 120 , 0 *0)\n",
      "\n",
      "Check: given the padding, your catalog should end at cartesian positions:\n",
      "max(x) = 960.0\n",
      "max(y) = 960.0\n",
      "max(z) = 960.0\n",
      "\n",
      "Origin (0,0,0) of box will be considered to be displaced from the observer @Earth\n",
      "by these numbers of cells in each direction:    (This affects RSDs!)\n",
      "n_x_orig= -16.95\n",
      "n_y_orig= -17.24\n",
      "n_z_orig= -17.03\n",
      "\n",
      "\n",
      "Mass assignement: Clouds in Cell (CiC)\n",
      "\n",
      "Processing catalog # 0\n",
      "Reading catalog for tracer 0\n",
      "Original catalog has 1914723 objects\n",
      "Processing batch # 0 of 19\n",
      "Processing objects # 0 to 100000\n",
      "Processing batch # 1 of 19\n",
      "Processing objects # 100000 to 200000\n",
      "Processing batch # 2 of 19\n",
      "Processing objects # 200000 to 300000\n",
      "Processing batch # 3 of 19\n",
      "Processing objects # 300000 to 400000\n",
      "Processing batch # 4 of 19\n",
      "Processing objects # 400000 to 500000\n",
      "Processing batch # 5 of 19\n",
      "Processing objects # 500000 to 600000\n",
      "Processing batch # 6 of 19\n",
      "Processing objects # 600000 to 700000\n",
      "Processing batch # 7 of 19\n",
      "Processing objects # 700000 to 800000\n",
      "Processing batch # 8 of 19\n",
      "Processing objects # 800000 to 900000\n",
      "Processing batch # 9 of 19\n",
      "Processing objects # 900000 to 1000000\n",
      "Processing batch # 10 of 19\n",
      "Processing objects # 1000000 to 1100000\n",
      "Processing batch # 11 of 19\n",
      "Processing objects # 1100000 to 1200000\n",
      "Processing batch # 12 of 19\n",
      "Processing objects # 1200000 to 1300000\n",
      "Processing batch # 13 of 19\n",
      "Processing objects # 1300000 to 1400000\n",
      "Processing batch # 14 of 19\n",
      "Processing objects # 1400000 to 1500000\n",
      "Processing batch # 15 of 19\n",
      "Processing objects # 1500000 to 1600000\n",
      "Processing batch # 16 of 19\n",
      "Processing objects # 1600000 to 1700000\n",
      "Processing batch # 17 of 19\n",
      "Processing objects # 1700000 to 1800000\n",
      "Processing batch # 18 of 19\n",
      "Processing objects # 1800000 to 1900000\n",
      "Processing batch # 19 of 19\n",
      "Processing objects # 1900000 to 1914723\n",
      "... after placing objects in grid there are 1914622 objects.\n",
      "Final/original number: 99.99 %\n",
      "\n",
      "Saving grid of counts to file: maps/sims/lightcone/Data_grid_000.hdf5\n",
      "Number of tracers per cell: [1.10799905]\n",
      "Done!\n"
     ]
    }
   ],
   "source": [
    "create_grids_from_xyz_cats(cat_specs, my_cosmology, my_code_options, \n",
    "                           input_filename, filenames_catalogs, dir_out)"
   ]
  },
  {
   "cell_type": "markdown",
   "id": "fffc5fbe-e74b-41dd-984a-ac277cf1f06a",
   "metadata": {},
   "source": [
    "### 4) Estimating the spectra\n",
    "\n",
    "You can estimate the spectra using the function inside `MTPK_estimate_beta` code. The `handle_data` is the same as the `input_file_name`"
   ]
  },
  {
   "cell_type": "code",
   "execution_count": 8,
   "id": "8b0ab13f-3523-49ad-8085-3c157516a794",
   "metadata": {},
   "outputs": [],
   "source": [
    "#Some user options\n",
    "handle_data = \"lightcone\"\n",
    "dir_maps = 'maps/sims/lightcone/'\n",
    "dir_data = 'maps/data/lightcone/'\n",
    "dir_specs = 'spectra/lightcone/'"
   ]
  },
  {
   "cell_type": "code",
   "execution_count": 9,
   "id": "9dea1222-8ead-479a-a341-d3d24c0c719e",
   "metadata": {},
   "outputs": [
    {
     "name": "stdout",
     "output_type": "stream",
     "text": [
      "\n",
      "\n",
      "This is the Multi-tracer power spectrum estimator\n",
      "\n",
      "Handle of this run (fiducial spectra, biases, etc.):  lightcone\n",
      "\n",
      "Beggining CAMB calculations\n",
      "\n",
      "Computing matter power spectrum for given cosmology...\n",
      "\n",
      ".\n",
      "Generating the k-space Grid...\n",
      ".\n",
      "Will use the N = 1  simulation-only maps contained in directory maps/sims/lightcone/\n",
      ".\n",
      "Geometry: (nx,ny,nz) = (120,120,120),  cell_size=8.0 h^-1 Mpc\n",
      "Geometry including bounding box: (nx,ny,nz) = (120,120,120)\n",
      ".\n",
      "Using power spectrum from CAMB + HaloFit\n",
      ".\n",
      "----------------------------------\n",
      ".\n",
      "Will estimate modes up to k[h/Mpc] =  0.0800  in bins with Delta_k = 0.0050\n",
      ".\n",
      "----------------------------------\n",
      ".\n",
      "\n",
      "----------------------------------\n",
      "\n",
      "Central physical k values where spectra will be estimated: 0.1\n",
      "Initializing the k-binning matrix...\n",
      "Done with k-binning matrices. Time cost:  0.118 s\n",
      "Memory occupied by the binning matrix:  3707\n",
      "Originally k_bar was defined as: ['0.0700', '0.0828', '0.0955']\n",
      "The true mean of k for each bin is: ['0.0701', '0.0834', '0.0956']\n",
      "\n",
      "----------------------------------\n",
      "\n",
      "Now estimating the power spectra...\n",
      "Starting power spectra estimation\n",
      "Initializing multi-tracer estimation toolbox...\n",
      "Initializing traditional (FKP) estimation toolbox...\n",
      "... done. Starting computations for each map (box) now.\n",
      "\n",
      "Loading simulated box # 0\n",
      "Total number of objects in this map: [1914622.]\n",
      "  Estimating FKP power spectra...\n",
      "   FKP shot noise for tracer 0  :  100.0120317696562\n",
      "  Now estimating multi-tracer spectra...\n",
      "   Multi-tracer shot noise: [100.012033]\n",
      "  Effective biases of the simulated maps:\n",
      "   Fiducial= ['1.185']\n",
      "        FKP= ['nan']\n",
      "         MT= ['nan']\n",
      "Elapsed time for computation of spectra for this map: 3.8333\n",
      ".\n",
      "Total time cost for estimation of spectra:  3.833570957183838\n",
      "Applying mass assignement window function corrections...\n",
      "Done!\n"
     ]
    },
    {
     "name": "stderr",
     "output_type": "stream",
     "text": [
      "/usr/local/lib/python3.8/dist-packages/numpy/core/fromnumeric.py:3419: RuntimeWarning: Mean of empty slice.\n",
      "  return _methods._mean(a, axis=axis, dtype=dtype,\n",
      "/usr/local/lib/python3.8/dist-packages/numpy/core/_methods.py:180: RuntimeWarning: invalid value encountered in true_divide\n",
      "  ret = um.true_divide(\n"
     ]
    }
   ],
   "source": [
    "MTPK_estimate(cat_specs, my_cosmology, my_code_options, dir_maps, dir_data, dir_specs, handle_data = handle_data)"
   ]
  },
  {
   "cell_type": "markdown",
   "id": "5e128e80-a41e-4a58-8871-15c9ea55b2d7",
   "metadata": {},
   "source": [
    "### 5) Some plots"
   ]
  },
  {
   "cell_type": "code",
   "execution_count": 10,
   "id": "eaade953-80c0-4b8e-a39b-19e8c241e539",
   "metadata": {},
   "outputs": [],
   "source": [
    "# Taking data\n",
    "P0_FKP = np.loadtxt('spectra/lightcone/lightcone_P0_FKP.dat')\n",
    "P0_MT = np.loadtxt('spectra/lightcone/lightcone_P0_MTOE.dat')\n",
    "\n",
    "P2_FKP = np.loadtxt('spectra/lightcone/lightcone_P2_FKP.dat')\n",
    "P2_MT = np.loadtxt('spectra/lightcone/lightcone_P2_MTOE.dat')\n",
    "\n",
    "P4_FKP = np.loadtxt('spectra/lightcone/lightcone_P4_FKP.dat')\n",
    "P4_MT = np.loadtxt('spectra/lightcone/lightcone_P4_MTOE.dat')\n",
    "\n",
    "k = np.loadtxt('spectra/lightcone/lightcone_vec_k.dat')"
   ]
  },
  {
   "cell_type": "code",
   "execution_count": 12,
   "id": "063bb08a-09d2-4af2-90d2-bbdda8e2f617",
   "metadata": {},
   "outputs": [],
   "source": [
    "n_bins = cat_specs.ntracers\n",
    "n_cats = cat_specs.n_maps\n",
    "n_k = k.shape[0]\n",
    "\n",
    "P0_FKP = P0_FKP.reshape(n_bins, n_cats, n_k)\n",
    "P0_MT = P0_MT.reshape(n_bins, n_cats, n_k)\n",
    "\n",
    "P2_FKP = P2_FKP.reshape(n_bins, n_cats, n_k)\n",
    "P2_MT = P2_MT.reshape(n_bins, n_cats, n_k)\n",
    "\n",
    "P4_FKP = P4_FKP.reshape(n_bins, n_cats, n_k)\n",
    "P4_MT = P4_MT.reshape(n_bins, n_cats, n_k)"
   ]
  },
  {
   "cell_type": "code",
   "execution_count": 13,
   "id": "31458563-f065-4ebd-8d6d-cb0ded10a43f",
   "metadata": {},
   "outputs": [
    {
     "data": {
      "text/plain": [
       "array([0.005, 0.01 , 0.015, 0.02 , 0.025, 0.03 , 0.035, 0.04 , 0.045,\n",
       "       0.05 , 0.055, 0.06 , 0.065, 0.07 , 0.075])"
      ]
     },
     "execution_count": 13,
     "metadata": {},
     "output_type": "execute_result"
    }
   ],
   "source": [
    "k"
   ]
  },
  {
   "cell_type": "code",
   "execution_count": 14,
   "id": "153e5bbe-c34a-42e7-8758-cb5ec27d8abb",
   "metadata": {},
   "outputs": [
    {
     "data": {
      "image/png": "[encoded data removed]",
      "text/plain": [
       "<Figure size 600x400 with 1 Axes>"
      ]
     },
     "metadata": {
      "needs_background": "light"
     },
     "output_type": "display_data"
    }
   ],
   "source": [
    "plt.figure(dpi = 100)\n",
    "for i in range(n_bins):\n",
    "    plt.loglog(k, np.mean(P0_FKP, axis = 1)[i], label = f'FKP Monopole - Bin {i}')\n",
    "\n",
    "    plt.loglog(k, np.mean(P0_MT, axis = 1)[i], '--', label = f'MT Monopole - Bin {i}')\n",
    "    plt.legend()"
   ]
  },
  {
   "cell_type": "code",
   "execution_count": 15,
   "id": "5ec978de-e3ce-45e7-95e7-1274c49dd4e9",
   "metadata": {},
   "outputs": [
    {
     "data": {
      "image/png": "[encoded data removed]",
      "text/plain": [
       "<Figure size 600x400 with 1 Axes>"
      ]
     },
     "metadata": {
      "needs_background": "light"
     },
     "output_type": "display_data"
    }
   ],
   "source": [
    "plt.figure(dpi = 100)\n",
    "for i in range(n_bins):\n",
    "    plt.plot(k, np.mean(P2_FKP, axis = 1)[i], label = f'FKP Dipole - Bin {i}')\n",
    "\n",
    "    plt.plot(k, np.mean(P2_MT, axis = 1)[i], '--', label = f'MT Dipole - Bin {i}')\n",
    "    plt.legend()"
   ]
  },
  {
   "cell_type": "code",
   "execution_count": 16,
   "id": "8e8cd177-a01f-448d-bd50-3fa5d8577612",
   "metadata": {},
   "outputs": [
    {
     "data": {
      "image/png": "[encoded data removed]",
      "text/plain": [
       "<Figure size 600x400 with 1 Axes>"
      ]
     },
     "metadata": {
      "needs_background": "light"
     },
     "output_type": "display_data"
    }
   ],
   "source": [
    "plt.figure(dpi = 100)\n",
    "for i in range(n_bins):\n",
    "    plt.plot(k, np.mean(P4_FKP, axis = 1)[i], label = f'FKP Quadrupole - Bin {i}')\n",
    "\n",
    "    plt.plot(k, np.mean(P4_MT, axis = 1)[i], '--', label = f'MT Quadrupole - Bin {i}')\n",
    "    plt.legend()"
   ]
  },
  {
   "cell_type": "code",
   "execution_count": null,
   "id": "0bb3564e-268e-4df4-882e-ce589f110d99",
   "metadata": {},
   "outputs": [],
   "source": []
  },
  {
   "cell_type": "code",
   "execution_count": null,
   "id": "b13b06a6-a079-4198-ae88-424ad8556ead",
   "metadata": {},
   "outputs": [],
   "source": []
  }
 ],
 "metadata": {
  "kernelspec": {
   "display_name": "Python 3",
   "language": "python",
   "name": "python3"
  },
  "language_info": {
   "codemirror_mode": {
    "name": "ipython",
    "version": 3
   },
   "file_extension": ".py",
   "mimetype": "text/x-python",
   "name": "python",
   "nbconvert_exporter": "python",
   "pygments_lexer": "ipython3",
   "version": "3.8.10"
  }
 },
 "nbformat": 4,
 "nbformat_minor": 5
}
