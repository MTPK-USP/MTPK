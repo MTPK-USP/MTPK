{
 "cells": [
  {
   "cell_type": "code",
   "execution_count": 1,
   "id": "fe237913-23b2-42c5-ad65-b6e2d0e2e0c1",
   "metadata": {},
   "outputs": [],
   "source": [
    "from cosmo import cosmo\n",
    "from code_options import code_parameters\n",
    "from MTPK_natali import *"
   ]
  },
  {
   "cell_type": "code",
   "execution_count": 2,
   "id": "f76643f9-8e49-498d-a1df-738deb1c88b7",
   "metadata": {},
   "outputs": [
    {
     "name": "stdout",
     "output_type": "stream",
     "text": [
      "h = 0.71\n",
      "Omega0_b = 0.048206\n",
      "Omega0_cdm = 0.2589\n",
      "Omega0_m = 0.307106\n",
      "Omega0_k = 0.0\n",
      "Omega0_DE = 0.692894\n",
      "A_s = 2.1867466842075255e-09\n",
      "ln10e10AsA = 3.085\n",
      "n_s = 0.96\n",
      "w0 = -1.0\n",
      "w1 = 0.0\n",
      "z_re = 9.99999\n",
      "flat = True\n",
      "gamma = 0.5454\n",
      "matgrowcentral = 1e-05\n",
      "zcentral = 1.0\n",
      "c_light = 299792.458\n"
     ]
    },
    {
     "data": {
      "text/plain": [
       "''"
      ]
     },
     "execution_count": 2,
     "metadata": {},
     "output_type": "execute_result"
    }
   ],
   "source": [
    "#Defining the Cosmology\n",
    "my_cosmology = cosmo(h = 0.71)\n",
    "my_cosmology.cosmo_print()"
   ]
  },
  {
   "cell_type": "code",
   "execution_count": 3,
   "id": "f648f1a8-bc76-40b8-8ce4-676ae99e9d68",
   "metadata": {},
   "outputs": [
    {
     "name": "stdout",
     "output_type": "stream",
     "text": [
      "method = both\n",
      "mas_method = CIC\n",
      "use_kdip_phys = False\n",
      "kdip_phys = 0.005\n",
      "multipoles_order = 4\n",
      "use_padding = False\n",
      "padding_length = [10, 10, 10]\n",
      "use_theory_spectrum = False\n",
      "theory_spectrum_file = theory_spectrum_file.txt\n",
      "use_mask = False\n",
      "mask_filename = mask.hdf5\n",
      "mass_fun = [0.0156  0.00443 0.00143]\n",
      "halo_bias = [1.572 1.906 2.442]\n",
      "nhalos = 3\n",
      "n_maps = 3\n",
      "cell_size = 1.0\n",
      "n_x = 128\n",
      "n_y = 128\n",
      "n_z = 128\n",
      "n_x_orig = -64.0\n",
      "n_y_orig = -64.0\n",
      "n_z_orig = 10000.0\n",
      "sel_fun_data = False\n",
      "sel_fun_file = sel_fun-N128_halos.hdf5\n",
      "kmin_bias = 0.05\n",
      "kmax_bias = 0.15\n",
      "kph_central = 0.1\n",
      "dkph_bin = 0.01\n",
      "use_kmin_phys = False\n",
      "kmin_phys = 0.05\n",
      "use_kmax_phys = False\n",
      "kmax_phys = 0.6\n",
      "whichspec = 1\n",
      "use_cell_low_count_thresh = False\n",
      "cell_low_count_thresh = 0.0\n",
      "mult_sel_fun = 1.0\n",
      "shift_sel_fun = 0.0\n",
      "k_min_CAMB = 0.0001\n",
      "k_max_CAMB = 1.0\n"
     ]
    },
    {
     "data": {
      "text/plain": [
       "''"
      ]
     },
     "execution_count": 3,
     "metadata": {},
     "output_type": "execute_result"
    }
   ],
   "source": [
    "#Defining the code options\n",
    "my_code_options = code_parameters()\n",
    "my_code_options.parameters_print()"
   ]
  },
  {
   "cell_type": "code",
   "execution_count": 4,
   "id": "11e03f8d-729a-48d3-a3de-765baabc13ea",
   "metadata": {},
   "outputs": [
    {
     "name": "stdout",
     "output_type": "stream",
     "text": [
      "\n",
      "\n",
      "This is the Multi-tracer power spectrum estimator\n",
      "\n",
      "Handle of this run (fiducial spectra, biases, etc.):  ExSHalos\n",
      "\n",
      "Directory  /home/natalidesanti/doutorado/MTPK_github/MTPK/spectra/ExSHalos/k=0.1 exists!\n"
     ]
    },
    {
     "name": "stdin",
     "output_type": "stream",
     "text": [
      "Continue anyway? y/n   y\n"
     ]
    },
    {
     "name": "stdout",
     "output_type": "stream",
     "text": [
      "Directory  /home/natalidesanti/doutorado/MTPK_github/MTPK/figures/ExSHalos/k=0.1 exists!\n"
     ]
    },
    {
     "name": "stdin",
     "output_type": "stream",
     "text": [
      "Continue anyway? y/n   y\n"
     ]
    },
    {
     "name": "stdout",
     "output_type": "stream",
     "text": [
      "Beggining CAMB calculations\n",
      "\n",
      "Computing matter power spectrum for given cosmology...\n",
      "\n",
      "0\n",
      "CALLING CAMB NOW - HALOFIT\n",
      "Time elapsed: 0.7719669342041016\n",
      ".\n",
      "Generating the k-space Grid...\n",
      ".\n"
     ]
    },
    {
     "name": "stderr",
     "output_type": "stream",
     "text": [
      "/usr/local/lib/python3.8/dist-packages/numpy/core/_asarray.py:102: VisibleDeprecationWarning: Creating an ndarray from ragged nested sequences (which is a list-or-tuple of lists-or-tuples-or ndarrays with different lengths or shapes) is deprecated. If you meant to do this, you must specify 'dtype=object' when creating the ndarray.\n",
      "  return array(a, dtype, copy=False, order=order)\n"
     ]
    },
    {
     "name": "stdout",
     "output_type": "stream",
     "text": [
      "Will use the N = 3  simulation-only maps contained in directory /home/natalidesanti/doutorado/MTPK_github/MTPK/maps/sims/ExSHalos\n",
      ".\n",
      "Geometry: (nx,ny,nz) = (128,128,128),  cell_size=1.0 h^-1 Mpc\n",
      "Geometry including bounding box: (nx,ny,nz) = (128,128,128)\n",
      ".\n",
      "Using power spectrum from CAMB + HaloFit\n",
      ".\n",
      "----------------------------------\n",
      ".\n",
      "Will estimate modes up to k[h/Mpc] =  3.1416  in bins with Delta_k = 0.0234\n",
      ".\n",
      "----------------------------------\n",
      ".\n",
      "\n",
      "----------------------------------\n",
      "\n",
      "Central physical k values where spectra will be estimated: 0.1\n",
      "Initializing the k-binning matrix...\n",
      "Done with k-binning matrices. Time cost:  1.331 s\n",
      "Memory occupied by the binning matrix:  546747\n",
      "Originally k_bar was defined as: ['0.0441', '0.0516', '0.0590']\n",
      "The true mean of k for each bin is: ['0.0444', '0.0513', '0.0587']\n",
      "\n",
      "----------------------------------\n",
      "\n",
      "Now estimating the power spectra...\n",
      "Starting power spectra estimation\n",
      "Initializing multi-tracer estimation toolbox...\n",
      "Initializing traditional (FKP) estimation toolbox...\n",
      "... done. Starting computations for each map (box) now.\n",
      "\n",
      "Loading simulated box # 0\n",
      "Total number of objects in this map: [32867  9532  3061]\n",
      "  Estimating FKP power spectra...\n",
      "   FKP shot noise for tracer 0  :  64.11144275258931\n",
      "   FKP shot noise for tracer 1  :  225.76490025822622\n",
      "   FKP shot noise for tracer 2  :  699.3975587808757\n",
      "  Now estimating multi-tracer spectra...\n",
      "   Multi-tracer shot noise: [39.12406  57.515421 94.412499]\n",
      "  Effective biases of the simulated maps:\n",
      "   Fiducial= ['1.572', '1.906', '2.442']\n",
      "        FKP= ['0.951', '1.337', '1.495']\n",
      "         MT= ['0.950', '1.329', '1.514']\n",
      "Elapsed time for computation of spectra for this map: 14.7558\n",
      ".\n",
      "Loading simulated box # 1\n",
      "Total number of objects in this map: [33143  9496  3031]\n",
      "  Estimating FKP power spectra...\n",
      "   FKP shot noise for tracer 0  :  64.11144275258931\n",
      "   FKP shot noise for tracer 1  :  225.76490025822622\n",
      "   FKP shot noise for tracer 2  :  699.3975587808757\n",
      "  Now estimating multi-tracer spectra...\n",
      "   Multi-tracer shot noise: [39.12406  57.515421 94.412499]\n",
      "  Effective biases of these maps:\n",
      "   Fiducial= ['1.572', '1.906', '2.442']\n",
      "        FKP= ['0.825', '1.188', '1.359']\n",
      "         MT= ['0.824', '1.184', '1.355']\n",
      "Elapsed time for computation of spectra for this map: 14.8454\n",
      ".\n",
      "Loading simulated box # 2\n",
      "Total number of objects in this map: [32736  9061  3036]\n",
      "  Estimating FKP power spectra...\n",
      "   FKP shot noise for tracer 0  :  64.11144275258931\n",
      "   FKP shot noise for tracer 1  :  225.76490025822622\n",
      "   FKP shot noise for tracer 2  :  699.3975587808757\n",
      "  Now estimating multi-tracer spectra...\n",
      "   Multi-tracer shot noise: [39.12406  57.515421 94.412499]\n",
      "  Effective biases of these maps:\n",
      "   Fiducial= ['1.572', '1.906', '2.442']\n",
      "        FKP= ['0.891', '1.187', '1.332']\n",
      "         MT= ['0.890', '1.186', '1.355']\n",
      "Elapsed time for computation of spectra for this map: 14.7384\n",
      ".\n",
      "Total time cost for estimation of spectra:  14.738564014434814\n",
      "Applying mass assignement window function corrections...\n"
     ]
    },
    {
     "data": {
      "text/plain": [
       "0"
      ]
     },
     "execution_count": 4,
     "metadata": {},
     "output_type": "execute_result"
    }
   ],
   "source": [
    "MTPK_estimate(my_cosmology, my_code_options, handle_data = \"ExSHalos\")"
   ]
  },
  {
   "cell_type": "code",
   "execution_count": null,
   "id": "f27615d4-975e-4d2f-994b-0894c0f182d0",
   "metadata": {},
   "outputs": [],
   "source": []
  }
 ],
 "metadata": {
  "kernelspec": {
   "display_name": "Python 3",
   "language": "python",
   "name": "python3"
  },
  "language_info": {
   "codemirror_mode": {
    "name": "ipython",
    "version": 3
   },
   "file_extension": ".py",
   "mimetype": "text/x-python",
   "name": "python",
   "nbconvert_exporter": "python",
   "pygments_lexer": "ipython3",
   "version": "3.8.10"
  }
 },
 "nbformat": 4,
 "nbformat_minor": 5
}
