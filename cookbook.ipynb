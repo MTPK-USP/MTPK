{
 "cells": [
  {
   "cell_type": "markdown",
   "id": "a1dcd68d-da89-4eb6-a6ca-5d466cd0ecc7",
   "metadata": {},
   "source": [
    "# Cookbook\n",
    "\n",
    "Here we provide a set of recipes detailing the functionality available in our set of packages"
   ]
  },
  {
   "cell_type": "markdown",
   "id": "5b88286d-5e29-4931-84df-0154aeee45cf",
   "metadata": {},
   "source": [
    "## Including the libraries"
   ]
  },
  {
   "cell_type": "code",
   "execution_count": 1,
   "id": "11f2a76f-2107-4937-b5b3-e0307439f2b2",
   "metadata": {},
   "outputs": [],
   "source": [
    "from converting_cats_in_cats_of_bins import * #To convert any halo catalog according to bins of mass\n",
    "from colossus.cosmology import cosmology #To compute bias\n",
    "from colossus.lss import bias #To compute bias\n",
    "from cosmo import cosmo #to set the cosmology\n",
    "from code_options import code_parameters #to set the cosmological parameters\n",
    "from create_grids_from_xyz_cats_beta import * #to build the cats\n",
    "from MTPK_estimate_beta import * #to estimate the spectra"
   ]
  },
  {
   "cell_type": "markdown",
   "id": "9c359803-73cd-4df7-83f2-2cf49c044d07",
   "metadata": {},
   "source": [
    "## Spliting the catalogs in bins\n",
    "\n",
    "One of the main characteristics of the `MTPK` package is to compute the power spectra for different tracers. Here we present a library to split them according to halo mass. The parameters can be given according to:"
   ]
  },
  {
   "cell_type": "code",
   "execution_count": 2,
   "id": "04123325-b94f-417c-9b5a-570ea1260fb8",
   "metadata": {},
   "outputs": [
    {
     "name": "stdout",
     "output_type": "stream",
     "text": [
      "cats = ['data/ExSHalos/L128_000_halos.dat', 'data/ExSHalos/L128_001_halos.dat', 'data/ExSHalos/L128_002_halos.dat', 'data/ExSHalos/L128_003_halos.dat']\n",
      "m_col = 6\n",
      "x_col = 0\n",
      "y_col = 1\n",
      "z_col = 2\n",
      "m_min = 316227766016.83795\n",
      "m_max = 10000000000000\n",
      "n_bins = 3\n",
      "skiprows = 1\n",
      "V = 2097152.0\n",
      "path_to_save = data/ExSHalos/\n"
     ]
    },
    {
     "data": {
      "text/plain": [
       "''"
      ]
     },
     "execution_count": 2,
     "metadata": {},
     "output_type": "execute_result"
    }
   ],
   "source": [
    "#This method print the parameters from this class\n",
    "converting_cats_in_cats_of_bins().params_print()"
   ]
  },
  {
   "cell_type": "markdown",
   "id": "31368e57-7323-45cf-8345-700963f6129a",
   "metadata": {},
   "source": [
    "Then, you can instantiate the params according to your choices. For example:"
   ]
  },
  {
   "cell_type": "code",
   "execution_count": 3,
   "id": "6afb76d2-1a62-4a9b-bca5-2c9ee63243ee",
   "metadata": {},
   "outputs": [
    {
     "data": {
      "text/plain": [
       "<converting_cats_in_cats_of_bins.converting_cats_in_cats_of_bins at 0x7fae2c5e0520>"
      ]
     },
     "execution_count": 3,
     "metadata": {},
     "output_type": "execute_result"
    }
   ],
   "source": [
    "sp_bins = converting_cats_in_cats_of_bins()\n",
    "sp_bins"
   ]
  },
  {
   "cell_type": "code",
   "execution_count": 4,
   "id": "30e36d85-6a0b-4512-a7fe-957cca42743b",
   "metadata": {},
   "outputs": [
    {
     "name": "stdout",
     "output_type": "stream",
     "text": [
      "Catalogs created!\n"
     ]
    },
    {
     "data": {
      "text/plain": [
       "array([0.01251531, 0.00373197, 0.0007205 ])"
      ]
     },
     "execution_count": 4,
     "metadata": {},
     "output_type": "execute_result"
    }
   ],
   "source": [
    "MF = sp_bins.to_bins()\n",
    "MF"
   ]
  },
  {
   "cell_type": "markdown",
   "id": "e39f5aaf-a7d3-4654-b016-8a77ce754b57",
   "metadata": {},
   "source": [
    "The central masses per bin are given using the `method`:"
   ]
  },
  {
   "cell_type": "code",
   "execution_count": 5,
   "id": "4fc40058-2cfe-4dc9-a3ee-768fbd1a7189",
   "metadata": {},
   "outputs": [
    {
     "data": {
      "text/plain": [
       "[658113883008.419, 2081138830084.1897, 6581138830084.189]"
      ]
     },
     "execution_count": 5,
     "metadata": {},
     "output_type": "execute_result"
    }
   ],
   "source": [
    "m_ctrs = sp_bins.central_masses()\n",
    "m_ctrs"
   ]
  },
  {
   "cell_type": "markdown",
   "id": "fdec3174-383e-4a7a-9338-b4c4e458d995",
   "metadata": {},
   "source": [
    "To compute an estimative for the bias of each halo bin we can use the `Colossus` library:"
   ]
  },
  {
   "cell_type": "code",
   "execution_count": 6,
   "id": "4e2e864a-b322-4b26-8fba-66c830b4eb31",
   "metadata": {},
   "outputs": [
    {
     "data": {
      "text/plain": [
       "[1.2086210355250606, 1.5027890453729722, 1.9830274528457887]"
      ]
     },
     "execution_count": 6,
     "metadata": {},
     "output_type": "execute_result"
    }
   ],
   "source": [
    "cosmology.setCosmology('planck18')\n",
    "b = []\n",
    "for i in range( len(m_ctrs) ):\n",
    "    b.append( bias.haloBias(m_ctrs[i], model = 'tinker10', z = 1, mdef = 'vir') )\n",
    "b"
   ]
  },
  {
   "cell_type": "markdown",
   "id": "053ebc28-df52-4620-89e7-b2d52deb1a65",
   "metadata": {},
   "source": [
    "## Setting the cosmology\n",
    "\n",
    "The cosmological parameters have default values according to [Planck 2018](https://arxiv.org/abs/1807.06209). You can check the individual values just using"
   ]
  },
  {
   "cell_type": "code",
   "execution_count": 7,
   "id": "43122571-88dd-4041-bea6-f4a52e44bb66",
   "metadata": {},
   "outputs": [
    {
     "name": "stdout",
     "output_type": "stream",
     "text": [
      "h = 0.678\n",
      "Omega0_b = 0.048206\n",
      "Omega0_cdm = 0.2589\n",
      "Omega0_m = 0.307106\n",
      "Omega0_k = 0.0\n",
      "Omega0_DE = 0.692894\n",
      "A_s = 2.1867466842075255e-09\n",
      "ln10e10AsA = 3.085\n",
      "n_s = 0.96\n",
      "w0 = -1.0\n",
      "w1 = 0.0\n",
      "z_re = 9.99999\n",
      "flat = True\n",
      "gamma = 0.5454\n",
      "matgrowcentral = 1e-05\n",
      "zcentral = 1.0\n",
      "c_light = 299792.458\n"
     ]
    },
    {
     "data": {
      "text/plain": [
       "''"
      ]
     },
     "execution_count": 7,
     "metadata": {},
     "output_type": "execute_result"
    }
   ],
   "source": [
    "#Printing the default cosmology\n",
    "cosmo().cosmo_print()"
   ]
  },
  {
   "cell_type": "markdown",
   "id": "14c65a3d-5c32-4d49-ba35-6129c74ee586",
   "metadata": {},
   "source": [
    "The first argument of all the functions in this suite uses the set of cosmological parameters, then, set the cosmology is the first thing that you have to do in order to compute the power spectra."
   ]
  },
  {
   "cell_type": "markdown",
   "id": "8851197b-2349-4a13-8c63-a28753efb653",
   "metadata": {},
   "source": [
    "### Setting the cosmology as the fiducial one\n",
    "\n",
    "Otherwise you can change the value of the parameters simply giving the parameter and its new value. For instance: `cosmo(h = 0.678, n_s = 0.96)`"
   ]
  },
  {
   "cell_type": "markdown",
   "id": "dba0bcef-c4e6-4c2a-a31a-5e561fff88e9",
   "metadata": {},
   "source": [
    "You can still define the parameter `matgrow` according to two different methods:"
   ]
  },
  {
   "cell_type": "code",
   "execution_count": 8,
   "id": "70918080-b4d4-4294-96a8-3cc6683548ce",
   "metadata": {},
   "outputs": [
    {
     "data": {
      "text/plain": [
       "(0.5252511834620611, 0.5252511834620611)"
      ]
     },
     "execution_count": 8,
     "metadata": {},
     "output_type": "execute_result"
    }
   ],
   "source": [
    "mg_evol = cosmo().f_evolving(0)\n",
    "mg_phe = cosmo().f_phenomenological()\n",
    "mg_evol, mg_phe"
   ]
  },
  {
   "cell_type": "code",
   "execution_count": 9,
   "id": "c13153df-7e03-4dd9-8a84-41a6fd443c0e",
   "metadata": {},
   "outputs": [
    {
     "name": "stdout",
     "output_type": "stream",
     "text": [
      "h = 0.678\n",
      "Omega0_b = 0.048206\n",
      "Omega0_cdm = 0.2589\n",
      "Omega0_m = 0.307106\n",
      "Omega0_k = 0.0\n",
      "Omega0_DE = 0.692894\n",
      "A_s = 2.1867466842075255e-09\n",
      "ln10e10AsA = 3.085\n",
      "n_s = 0.96\n",
      "w0 = -1.0\n",
      "w1 = 0.0\n",
      "z_re = 9.99999\n",
      "flat = True\n",
      "gamma = 0.5454\n",
      "matgrowcentral = 0.5252511834620611\n",
      "zcentral = 1.0\n",
      "c_light = 299792.458\n"
     ]
    },
    {
     "data": {
      "text/plain": [
       "''"
      ]
     },
     "execution_count": 9,
     "metadata": {},
     "output_type": "execute_result"
    }
   ],
   "source": [
    "my_cosmology = cosmo(matgrowcentral = mg_evol)\n",
    "my_cosmology.cosmo_print()"
   ]
  },
  {
   "cell_type": "markdown",
   "id": "fbcde9ab-f23d-4f09-9af7-ca84e21ec6bc",
   "metadata": {},
   "source": [
    "## Setting the code options\n",
    "\n",
    "The second argument of all the functions in this suite uses the set of code options. These options define exactly what kind of data you are going to compute the power spectra and which are the spectra that you are obtaining. The fiducial option is given by:"
   ]
  },
  {
   "cell_type": "code",
   "execution_count": 10,
   "id": "52019be2-8e26-45c6-adcf-2cacb7f811ec",
   "metadata": {},
   "outputs": [
    {
     "name": "stdout",
     "output_type": "stream",
     "text": [
      "method = both\n",
      "mas_method = CIC\n",
      "use_kdip_phys = False\n",
      "kdip_phys = 0.005\n",
      "multipoles_order = 4\n",
      "do_cross_spectra = True\n",
      "use_padding = False\n",
      "padding_length = [10, 10, 10]\n",
      "use_theory_spectrum = False\n",
      "theory_spectrum_file = theory_spectrum_file.txt\n",
      "use_mask = False\n",
      "mask_filename = mask.hdf5\n",
      "mass_fun = [0.0156  0.00443 0.00143]\n",
      "halo_bias = [1.572 1.906 2.442]\n",
      "nhalos = 3\n",
      "n_maps = 3\n",
      "cell_size = 1.0\n",
      "n_x = 128\n",
      "n_y = 128\n",
      "n_z = 128\n",
      "n_x_orig = -64.0\n",
      "n_y_orig = -64.0\n",
      "n_z_orig = 10000.0\n",
      "sel_fun_data = False\n",
      "sel_fun_file = sel_fun-N128_halos.hdf5\n",
      "kmin_bias = 0.05\n",
      "kmax_bias = 0.15\n",
      "kph_central = 0.1\n",
      "dkph_bin = 0.01\n",
      "use_kmin_phys = False\n",
      "kmin_phys = 0.05\n",
      "use_kmax_phys = True\n",
      "kmax_phys = 1.0\n",
      "whichspec = 1\n",
      "use_cell_low_count_thresh = False\n",
      "cell_low_count_thresh = 0.0\n",
      "mult_sel_fun = 1.0\n",
      "shift_sel_fun = 0.0\n",
      "k_min_CAMB = 0.0001\n",
      "k_max_CAMB = 1.0\n"
     ]
    },
    {
     "data": {
      "text/plain": [
       "''"
      ]
     },
     "execution_count": 10,
     "metadata": {},
     "output_type": "execute_result"
    }
   ],
   "source": [
    "#Defining the code options\n",
    "my_code_options = code_parameters()\n",
    "my_code_options.parameters_print()"
   ]
  },
  {
   "cell_type": "markdown",
   "id": "a977c41d-b222-4ba6-9b83-d2d2ba3248c4",
   "metadata": {},
   "source": [
    "### Setting different options\n",
    "\n",
    "You can define different code options. However, some parameters are inherent from the dataset that you are using, so, pay attentio on that:"
   ]
  },
  {
   "cell_type": "code",
   "execution_count": 11,
   "id": "f648f1a8-bc76-40b8-8ce4-676ae99e9d68",
   "metadata": {},
   "outputs": [
    {
     "name": "stdout",
     "output_type": "stream",
     "text": [
      "method = FKP\n",
      "mas_method = CIC\n",
      "use_kdip_phys = False\n",
      "kdip_phys = 0.005\n",
      "multipoles_order = 4\n",
      "do_cross_spectra = True\n",
      "use_padding = False\n",
      "padding_length = [10, 10, 10]\n",
      "use_theory_spectrum = False\n",
      "theory_spectrum_file = theory_spectrum_file.txt\n",
      "use_mask = False\n",
      "mask_filename = mask.hdf5\n",
      "mass_fun = [0.01251531 0.00373197 0.0007205 ]\n",
      "halo_bias = [1.20862104 1.50278905 1.98302745]\n",
      "nhalos = 3\n",
      "n_maps = 4\n",
      "cell_size = 1.0\n",
      "n_x = 128\n",
      "n_y = 128\n",
      "n_z = 128\n",
      "n_x_orig = -64.0\n",
      "n_y_orig = -64.0\n",
      "n_z_orig = 10000.0\n",
      "sel_fun_data = False\n",
      "sel_fun_file = sel_fun-N128_halos.hdf5\n",
      "kmin_bias = 0.05\n",
      "kmax_bias = 0.15\n",
      "kph_central = 0.1\n",
      "dkph_bin = 0.01\n",
      "use_kmin_phys = False\n",
      "kmin_phys = 0.05\n",
      "use_kmax_phys = True\n",
      "kmax_phys = 1.0\n",
      "whichspec = 1\n",
      "use_cell_low_count_thresh = False\n",
      "cell_low_count_thresh = 0.0\n",
      "mult_sel_fun = 1.0\n",
      "shift_sel_fun = 0.0\n",
      "k_min_CAMB = 0.0001\n",
      "k_max_CAMB = 1.0\n"
     ]
    },
    {
     "data": {
      "text/plain": [
       "''"
      ]
     },
     "execution_count": 11,
     "metadata": {},
     "output_type": "execute_result"
    }
   ],
   "source": [
    "#Defining the code options\n",
    "my_code_options = code_parameters(method = 'FKP', multipoles_order = 4, \n",
    "                                  n_maps = 4,\n",
    "                                  nhalos = 3,\n",
    "                                  mass_fun = MF,\n",
    "                                  halo_bias = np.array(b))\n",
    "my_code_options.parameters_print()"
   ]
  },
  {
   "cell_type": "markdown",
   "id": "0503d441-ec4b-4cfb-998e-71568c4062ae",
   "metadata": {},
   "source": [
    "## Creating the catalogs\n",
    "\n",
    "You can create the cats using `create_grids_from_xyz_cats_beta`"
   ]
  },
  {
   "cell_type": "code",
   "execution_count": 12,
   "id": "9e97a306-a113-4b0d-89ee-8a2669a621a8",
   "metadata": {},
   "outputs": [],
   "source": [
    "input_filename = 'ExSHalos'\n",
    "filenames_catalogs = 'data/ExSHalos/seed*.dat'\n",
    "Ncats = 4\n",
    "Ntracers = 3\n",
    "use_redshifts = False\n",
    "col_x = 0                                                                                              \n",
    "col_y = 1                                                                                              \n",
    "col_z = 2\n",
    "x_cat_min , y_cat_min , z_cat_min = 0.0 , 0.0 , 0.0\n",
    "x_cat_max , y_cat_max , z_cat_max = 128.0 , 128.0 , 128.0\n",
    "mask_redshift = False\n",
    "grid_method = 2\n",
    "save_mask = False\n",
    "save_mean_sel_fun = False"
   ]
  },
  {
   "cell_type": "code",
   "execution_count": 13,
   "id": "f3280c2a-4a6a-47b7-afb8-fe83c0f2c394",
   "metadata": {},
   "outputs": [
    {
     "name": "stdout",
     "output_type": "stream",
     "text": [
      "\n",
      "Will load maps stored in files:\n",
      "[['data/ExSHalos/seed0_bin0.dat' 'data/ExSHalos/seed0_bin1.dat'\n",
      "  'data/ExSHalos/seed0_bin2.dat']\n",
      " ['data/ExSHalos/seed1_bin0.dat' 'data/ExSHalos/seed1_bin1.dat'\n",
      "  'data/ExSHalos/seed1_bin2.dat']\n",
      " ['data/ExSHalos/seed2_bin0.dat' 'data/ExSHalos/seed2_bin1.dat'\n",
      "  'data/ExSHalos/seed2_bin2.dat']\n",
      " ['data/ExSHalos/seed3_bin0.dat' 'data/ExSHalos/seed3_bin1.dat'\n",
      "  'data/ExSHalos/seed3_bin2.dat']]\n",
      "Dimensions of the grids: n_x, n_y, n_z = 128 128 128\n",
      "\n",
      "The actual catalog spans the ranges in x,y,z:\n",
      "x: 0.0 --> 128.0\n",
      "y: 0.0 --> 128.0\n",
      "z: 0.0 --> 128.0\n",
      "\n",
      "\n",
      "With the padding length, of  0 cells, the box will be filled with:\n",
      "x: ( 0 * 0 , 128 , 0 *0)\n",
      "y: ( 0 * 0 , 128 , 0 *0)\n",
      "z: ( 0 * 0 , 128 , 0 *0)\n",
      "\n",
      "Check: given the padding, your catalog should end at cartesian positions:\n",
      "max(x) = 128.0\n",
      "max(y) = 128.0\n",
      "max(z) = 128.0\n",
      "\n",
      "Origin (0,0,0) of box will be considered to be displaced from the observer @Earth\n",
      "by these numbers of cells in each direction:    (This affects RSDs!)\n",
      "n_x_orig= -64.0\n",
      "n_y_orig= -64.0\n",
      "n_z_orig= 10000.0\n",
      "\n",
      "\n",
      "Mass assignement: Clouds in Cell (CiC)...\n",
      "\n",
      "Processing catalog # 0\n",
      "Reading catalog for tracer 0\n",
      "Original catalog has 26278 objects\n",
      "After trimming inside box, the catalog has 26278 objects\n",
      "\n",
      " Now building grid box...\n",
      "... after placing objects in grid there are 26114 objects.\n",
      "Final/original number: 99.38 %\n",
      "Reading catalog for tracer 1\n",
      "Original catalog has 7874 objects\n",
      "After trimming inside box, the catalog has 7874 objects\n",
      "\n",
      " Now building grid box...\n",
      "... after placing objects in grid there are 7828 objects.\n",
      "Final/original number: 99.43 %\n",
      "Reading catalog for tracer 2\n",
      "Original catalog has 1514 objects\n",
      "After trimming inside box, the catalog has 1514 objects\n",
      "\n",
      " Now building grid box...\n",
      "... after placing objects in grid there are 1505 objects.\n",
      "Final/original number: 99.43 %\n",
      "Saving grid of counts to file: /home/natalidesanti/doutorado/MTPK_github/MTPK/maps/sims/ExSHalos/Data_grid_000.hdf5\n",
      "\n",
      "Processing catalog # 1\n",
      "Reading catalog for tracer 0\n",
      "Original catalog has 26286 objects\n",
      "After trimming inside box, the catalog has 26286 objects\n",
      "\n",
      " Now building grid box...\n",
      "... after placing objects in grid there are 26134 objects.\n",
      "Final/original number: 99.42 %\n",
      "Reading catalog for tracer 1\n",
      "Original catalog has 7931 objects\n",
      "After trimming inside box, the catalog has 7931 objects\n",
      "\n",
      " Now building grid box...\n",
      "... after placing objects in grid there are 7891 objects.\n",
      "Final/original number: 99.5 %\n",
      "Reading catalog for tracer 2\n",
      "Original catalog has 1501 objects\n",
      "After trimming inside box, the catalog has 1501 objects\n",
      "\n",
      " Now building grid box...\n",
      "... after placing objects in grid there are 1492 objects.\n",
      "Final/original number: 99.45 %\n",
      "Saving grid of counts to file: /home/natalidesanti/doutorado/MTPK_github/MTPK/maps/sims/ExSHalos/Data_grid_001.hdf5\n",
      "\n",
      "Processing catalog # 2\n",
      "Reading catalog for tracer 0\n",
      "Original catalog has 25920 objects\n",
      "After trimming inside box, the catalog has 25920 objects\n",
      "\n",
      " Now building grid box...\n",
      "... after placing objects in grid there are 25763 objects.\n",
      "Final/original number: 99.4 %\n",
      "Reading catalog for tracer 1\n",
      "Original catalog has 7613 objects\n",
      "After trimming inside box, the catalog has 7613 objects\n",
      "\n",
      " Now building grid box...\n",
      "... after placing objects in grid there are 7577 objects.\n",
      "Final/original number: 99.53 %\n",
      "Reading catalog for tracer 2\n",
      "Original catalog has 1496 objects\n",
      "After trimming inside box, the catalog has 1496 objects\n",
      "\n",
      " Now building grid box...\n",
      "... after placing objects in grid there are 1488 objects.\n",
      "Final/original number: 99.52 %\n",
      "Saving grid of counts to file: /home/natalidesanti/doutorado/MTPK_github/MTPK/maps/sims/ExSHalos/Data_grid_002.hdf5\n",
      "\n",
      "Processing catalog # 3\n",
      "Reading catalog for tracer 0\n",
      "Original catalog has 26502 objects\n",
      "After trimming inside box, the catalog has 26502 objects\n",
      "\n",
      " Now building grid box...\n",
      "... after placing objects in grid there are 26328 objects.\n",
      "Final/original number: 99.35 %\n",
      "Reading catalog for tracer 1\n",
      "Original catalog has 7888 objects\n",
      "After trimming inside box, the catalog has 7888 objects\n",
      "\n",
      " Now building grid box...\n",
      "... after placing objects in grid there are 7833 objects.\n",
      "Final/original number: 99.3 %\n",
      "Reading catalog for tracer 2\n",
      "Original catalog has 1533 objects\n",
      "After trimming inside box, the catalog has 1533 objects\n",
      "\n",
      " Now building grid box...\n",
      "... after placing objects in grid there are 1523 objects.\n",
      "Final/original number: 99.38 %\n",
      "Saving grid of counts to file: /home/natalidesanti/doutorado/MTPK_github/MTPK/maps/sims/ExSHalos/Data_grid_003.hdf5\n",
      "\n",
      "\n",
      "...done!\n",
      "\n",
      "++++++++++++++++++++\n",
      "\n"
     ]
    },
    {
     "data": {
      "text/plain": [
       "0"
      ]
     },
     "execution_count": 13,
     "metadata": {},
     "output_type": "execute_result"
    }
   ],
   "source": [
    "create_grids_from_xyz_cats(my_cosmology, my_code_options, \n",
    "                           input_filename, \n",
    "                           filenames_catalogs, Ncats, Ntracers, \n",
    "                           use_redshifts, col_x, col_y, col_z, x_cat_min , \n",
    "                           y_cat_min, z_cat_min, x_cat_max, y_cat_max, \n",
    "                           z_cat_max, mask_redshift, grid_method,    \n",
    "                           save_mask, save_mean_sel_fun)"
   ]
  },
  {
   "cell_type": "markdown",
   "id": "6692039a-6abd-42e1-91e6-11a39b916bda",
   "metadata": {},
   "source": [
    "## Estimating the spectra\n",
    "\n",
    "You can estimate the spectra using the function inside `MTPK_estimate_beta` code. The `handle_data` option follows for the name of the file where you are going to compute the spectra:"
   ]
  },
  {
   "cell_type": "code",
   "execution_count": 14,
   "id": "11e03f8d-729a-48d3-a3de-765baabc13ea",
   "metadata": {},
   "outputs": [
    {
     "name": "stdout",
     "output_type": "stream",
     "text": [
      "\n",
      "\n",
      "This is the Multi-tracer power spectrum estimator\n",
      "\n",
      "Handle of this run (fiducial spectra, biases, etc.):  ExSHalos\n",
      "\n",
      "Beggining CAMB calculations\n",
      "\n",
      "Computing matter power spectrum for given cosmology...\n",
      "\n",
      "0\n",
      "CALLING CAMB NOW - HALOFIT\n",
      "Time elapsed: 0.7499873638153076\n",
      ".\n",
      "Generating the k-space Grid...\n",
      ".\n"
     ]
    },
    {
     "name": "stderr",
     "output_type": "stream",
     "text": [
      "/usr/local/lib/python3.8/dist-packages/numpy/core/_asarray.py:102: VisibleDeprecationWarning: Creating an ndarray from ragged nested sequences (which is a list-or-tuple of lists-or-tuples-or ndarrays with different lengths or shapes) is deprecated. If you meant to do this, you must specify 'dtype=object' when creating the ndarray.\n",
      "  return array(a, dtype, copy=False, order=order)\n"
     ]
    },
    {
     "name": "stdout",
     "output_type": "stream",
     "text": [
      "Will use the N = 4  simulation-only maps contained in directory /home/natalidesanti/doutorado/MTPK_github/MTPK/maps/sims/ExSHalos\n",
      ".\n",
      "Geometry: (nx,ny,nz) = (128,128,128),  cell_size=1.0 h^-1 Mpc\n",
      "Geometry including bounding box: (nx,ny,nz) = (128,128,128)\n",
      ".\n",
      "Using power spectrum from CAMB + HaloFit\n",
      ".\n",
      "----------------------------------\n",
      ".\n",
      "Will estimate modes up to k[h/Mpc] =  1.0000  in bins with Delta_k = 0.0234\n",
      ".\n",
      "----------------------------------\n",
      ".\n",
      "\n",
      "----------------------------------\n",
      "\n",
      "Central physical k values where spectra will be estimated: 0.1\n",
      "Initializing the k-binning matrix...\n",
      "Done with k-binning matrices. Time cost:  0.346 s\n",
      "Memory occupied by the binning matrix:  16727\n",
      "Originally k_bar was defined as: ['0.0441', '0.0516', '0.0590']\n",
      "The true mean of k for each bin is: ['0.0444', '0.0513', '0.0587']\n",
      "\n",
      "----------------------------------\n",
      "\n",
      "Now estimating the power spectra...\n",
      "Starting power spectra estimation\n",
      "Initializing traditional (FKP) estimation toolbox...\n",
      "... done. Starting computations for each map (box) now.\n",
      "\n",
      "Loading simulated box # 0\n",
      "Total number of objects in this map: [26114.182   7828.9106  1505.3666]\n",
      "  Estimating FKP power spectra...\n",
      "   FKP shot noise for tracer 0  :  79.91322514321972\n",
      "   FKP shot noise for tracer 1  :  267.99239365658354\n",
      "   FKP shot noise for tracer 2  :  1388.1154677706986\n",
      "  Effective biases of the simulated maps:\n",
      "   Fiducial= ['1.209', '1.503', '1.983']\n",
      "        FKP= ['1.147', '1.249', '1.691']\n",
      "Elapsed time for computation of spectra for this map: 7.4661\n",
      ".\n",
      "Loading simulated box # 1\n",
      "Total number of objects in this map: [26134.668   7891.5825  1492.6927]\n",
      "  Estimating FKP power spectra...\n",
      "   FKP shot noise for tracer 0  :  79.91322514321972\n",
      "   FKP shot noise for tracer 1  :  267.99239365658354\n",
      "   FKP shot noise for tracer 2  :  1388.1154677706986\n",
      "  Effective biases of these maps:\n",
      "   Fiducial= ['1.209', '1.503', '1.983']\n",
      "        FKP= ['1.019', '1.128', '1.406']\n",
      "Elapsed time for computation of spectra for this map: 7.4211\n",
      ".\n",
      "Loading simulated box # 2\n",
      "Total number of objects in this map: [25763.754   7577.294   1488.8508]\n",
      "  Estimating FKP power spectra...\n",
      "   FKP shot noise for tracer 0  :  79.91322514321972\n",
      "   FKP shot noise for tracer 1  :  267.99239365658354\n",
      "   FKP shot noise for tracer 2  :  1388.1154677706986\n",
      "  Effective biases of these maps:\n",
      "   Fiducial= ['1.209', '1.503', '1.983']\n",
      "        FKP= ['1.035', '1.121', '1.571']\n",
      "Elapsed time for computation of spectra for this map: 7.3819\n",
      ".\n",
      "Loading simulated box # 3\n",
      "Total number of objects in this map: [26328.592   7833.1426  1523.496 ]\n",
      "  Estimating FKP power spectra...\n",
      "   FKP shot noise for tracer 0  :  79.91322514321972\n",
      "   FKP shot noise for tracer 1  :  267.99239365658354\n",
      "   FKP shot noise for tracer 2  :  1388.1154677706986\n",
      "  Effective biases of these maps:\n",
      "   Fiducial= ['1.209', '1.503', '1.983']\n",
      "        FKP= ['1.130', '1.206', '1.440']\n",
      "Elapsed time for computation of spectra for this map: 7.3739\n",
      ".\n",
      "Total time cost for estimation of spectra:  7.374008893966675\n",
      "Applying mass assignement window function corrections...\n"
     ]
    },
    {
     "data": {
      "text/plain": [
       "0"
      ]
     },
     "execution_count": 14,
     "metadata": {},
     "output_type": "execute_result"
    }
   ],
   "source": [
    "MTPK_estimate(my_cosmology, my_code_options, handle_data = \"ExSHalos\")"
   ]
  },
  {
   "cell_type": "code",
   "execution_count": null,
   "id": "e4d0bc5f-1382-49ff-9de3-10c88e568c86",
   "metadata": {},
   "outputs": [],
   "source": []
  }
 ],
 "metadata": {
  "kernelspec": {
   "display_name": "Python 3",
   "language": "python",
   "name": "python3"
  },
  "language_info": {
   "codemirror_mode": {
    "name": "ipython",
    "version": 3
   },
   "file_extension": ".py",
   "mimetype": "text/x-python",
   "name": "python",
   "nbconvert_exporter": "python",
   "pygments_lexer": "ipython3",
   "version": "3.8.10"
  }
 },
 "nbformat": 4,
 "nbformat_minor": 5
}
