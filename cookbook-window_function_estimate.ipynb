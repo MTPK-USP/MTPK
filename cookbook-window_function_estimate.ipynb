{
 "cells": [
  {
   "cell_type": "markdown",
   "metadata": {},
   "source": [
    "# Cookbook 3 - Computing the Q$_{\\ell}$s\n",
    "\n",
    "Here we provide a recipe, detailing the functionality available in our set of packages, to compute the Q$_{\\ell}$s coefficients for a  [ExSHalos](https://arxiv.org/abs/1906.06630) map far away from the observer, considering **redshift space distortions**"
   ]
  },
  {
   "cell_type": "markdown",
   "metadata": {},
   "source": [
    "## 0) Including the libraries"
   ]
  },
  {
   "cell_type": "code",
   "execution_count": 1,
   "metadata": {},
   "outputs": [],
   "source": [
    "import theory as theory\n",
    "from cosmo import cosmo\n",
    "from code_options import code_parameters #to set the cosmological parameters\n",
    "import numpy as np\n",
    "import sys\n",
    "import pandas as pd\n",
    "import scipy.interpolate\n",
    "import matplotlib.pyplot as plt\n",
    "import deepdish as dd\n",
    "import mcfit\n",
    "from scipy.ndimage import gaussian_filter"
   ]
  },
  {
   "cell_type": "markdown",
   "metadata": {},
   "source": [
    "## 1) Instantiating the parameters"
   ]
  },
  {
   "cell_type": "markdown",
   "metadata": {},
   "source": [
    "Defining the **cosmology**:"
   ]
  },
  {
   "cell_type": "code",
   "execution_count": 2,
   "metadata": {},
   "outputs": [],
   "source": [
    "h = 0.6711\n",
    "zmin = 4.0 #Minimum redshift\n",
    "zmax = 7.8 #Maximum redshift\n",
    "zcentral = (zmin + zmax)/2. #Mean redshift in the data\n",
    "my_cosmology = cosmo(h = h, Omega0_b = 0.049, Omega0_cdm = 0.2685,\n",
    "              Omega0_k = 0.0, Omega0_DE = 0.6825, A_s = 2.1277e-9,\n",
    "              n_s = 0.9624, w0 = - 1.0, w1 = 0.0, z_re = 9.99999,\n",
    "              flat = True, gamma = 0.5454, zcentral = zcentral)"
   ]
  },
  {
   "cell_type": "markdown",
   "metadata": {},
   "source": [
    "Code options"
   ]
  },
  {
   "cell_type": "code",
   "execution_count": 3,
   "metadata": {},
   "outputs": [],
   "source": [
    "#Defining the code options\n",
    "my_code_options = code_parameters(k_min_CAMB = 1e-4, k_max_CAMB = 1e1)"
   ]
  },
  {
   "cell_type": "code",
   "execution_count": 4,
   "metadata": {},
   "outputs": [],
   "source": [
    "ell_max = 6 #Maximum order to compute the multipoles\n",
    "all_multipoles = False # True if odd multipoles needed\n",
    "P_eff = (1.5**2)*2e3 #Value of the power spectrum at a chosen scale\n",
    "n_bar_r = f\"RSD/radial_number_density-L5000.dat\" #Name of the file containing the radial number density of objects in the survey\n",
    "file_rand = f'RSD/random_radecz-L5000.dat' #Path of the random catalog => shape (N, 3)\n",
    "rmin     = np.asarray([6e-2, 1e-1, 3e-1, 8e-1, 5e1]) #Minimum values of the different bins over which estimate Ql\n",
    "rmax     = np.asarray([1e-1, 3e-1, 8e-1, 5e1, 1e3]) #Maximum values of the different bins over which estimate Ql\n",
    "fraction = np.asarray([1, 0.2, 0.1, 0.01, 0.001]) #Fraction of the random catalog to use for each bin computation"
   ]
  },
  {
   "cell_type": "markdown",
   "metadata": {},
   "source": [
    "Loading the random catalog"
   ]
  },
  {
   "cell_type": "code",
   "execution_count": 5,
   "metadata": {},
   "outputs": [],
   "source": [
    "random = pd.read_csv(file_rand, skiprows = [0], sep = ' ')\n",
    "random = random.values"
   ]
  },
  {
   "cell_type": "markdown",
   "metadata": {},
   "source": [
    "## 2) Estimating the $Q_{\\ell}$s"
   ]
  },
  {
   "cell_type": "code",
   "execution_count": 6,
   "metadata": {},
   "outputs": [
    {
     "name": "stdout",
     "output_type": "stream",
     "text": [
      "Considering all redshifts from 4.0 to 7.8\n",
      " \n",
      " Mean of the weights is of 1.0 \n",
      "\n",
      "Computing random pair counts... This could take a while\n",
      "Done! It took 12.542253 seconds to complete\n",
      "Computing the multipoles [0. 2. 4. 6.] \n",
      "Now in ell = 0\n",
      "Now in ell = 2\n",
      "Now in ell = 4\n",
      "Now in ell = 6\n",
      "Done!\n",
      "Considering all redshifts from 4.0 to 7.8\n",
      " \n",
      " Mean of the weights is of 1.0 \n",
      "\n",
      "Computing random pair counts... This could take a while\n",
      "Done! It took 17.733286 seconds to complete\n",
      "Computing the multipoles [0. 2. 4. 6.] \n",
      "Now in ell = 0\n",
      "Now in ell = 2\n",
      "Now in ell = 4\n",
      "Now in ell = 6\n",
      "Done!\n",
      "Considering all redshifts from 4.0 to 7.8\n",
      " \n",
      " Mean of the weights is of 1.0 \n",
      "\n",
      "Computing random pair counts... This could take a while\n",
      "Done! It took 14.205492 seconds to complete\n",
      "Computing the multipoles [0. 2. 4. 6.] \n",
      "Now in ell = 0\n",
      "Now in ell = 2\n",
      "Now in ell = 4\n",
      "Now in ell = 6\n",
      "Done!\n",
      "Considering all redshifts from 4.0 to 7.8\n",
      " \n",
      " Mean of the weights is of 1.0 \n",
      "\n",
      "Computing random pair counts... This could take a while\n",
      "Done! It took 1.554011 seconds to complete\n",
      "Computing the multipoles [0. 2. 4. 6.] \n",
      "Now in ell = 0\n",
      "Now in ell = 2\n",
      "Now in ell = 4\n",
      "Now in ell = 6\n",
      "Done!\n",
      "Considering all redshifts from 4.0 to 7.8\n",
      " \n",
      " Mean of the weights is of 1.0 \n",
      "\n",
      "Computing random pair counts... This could take a while\n",
      "Done! It took 0.243608 seconds to complete\n",
      "Computing the multipoles [0. 2. 4. 6.] \n",
      "Now in ell = 0\n",
      "Now in ell = 2\n",
      "Now in ell = 4\n",
      "Now in ell = 6\n",
      "Done!\n"
     ]
    }
   ],
   "source": [
    "r_dict = {}\n",
    "Q_dict = {}\n",
    "\n",
    "N_r    = np.zeros(len(rmin))    \n",
    "for i in range(len(rmin)):\n",
    "    if(i == 0):\n",
    "        Nr = 10 #number of points to be computed in the first iteration\n",
    "    else:\n",
    "        Nr = 30 #number of points to be computed in any other iteration\n",
    "    r_dict[i], Q_dict[i] = theory.q_ell(random, my_cosmology, \n",
    "        ell_max = ell_max, rmin = rmin[i], rmax = rmax[i],\n",
    "        Nr = Nr, all_multipoles = all_multipoles, \n",
    "        zmin = zmin, zmax = zmax, fraction = fraction[i], \n",
    "        n_bar_r = n_bar_r, P_eff = P_eff, FKP_weights = False, \n",
    "                                        Normalize = True)\n",
    "    \n",
    "    N_r[i] = len(r_dict[i])\n",
    "\n",
    "q_ell     = np.zeros((4, int(N_r.sum())))\n",
    "r_centers = np.zeros(int(N_r.sum()))\n",
    "for i in range(len(rmin)):\n",
    "    q_ell[:,int(N_r[:i].sum()):int(N_r[:(i+1)].sum())] = Q_dict[i]\n",
    "    r_centers[int(N_r[:i].sum()):int(N_r[:(i+1)].sum())] = r_dict[i]\n",
    "N_ell = q_ell.shape[0]"
   ]
  },
  {
   "cell_type": "markdown",
   "metadata": {},
   "source": [
    "## 3) Working with $Q_{\\ell}$ values"
   ]
  },
  {
   "cell_type": "markdown",
   "metadata": {},
   "source": [
    "### a) Normalizing the higher $\\ell$ multipoles by $Q_0$"
   ]
  },
  {
   "cell_type": "code",
   "execution_count": 7,
   "metadata": {},
   "outputs": [],
   "source": [
    "Q_ell = np.copy(q_ell)"
   ]
  },
  {
   "cell_type": "code",
   "execution_count": 8,
   "metadata": {},
   "outputs": [],
   "source": [
    "for i in range(len(rmin)):\n",
    "    for j in range(1, N_ell):\n",
    "        Q_ell[j,int(N_r[:i].sum()):int(N_r[:(i+1)].sum())] = ( q_ell[j, int(N_r[:i].sum()):int(N_r[:(i+1)].sum())] / q_ell[0, int(N_r[:i].sum())] )*Q_ell[0, int(N_r[:i].sum())]"
   ]
  },
  {
   "cell_type": "markdown",
   "metadata": {},
   "source": [
    "### b) For low $r$, the estimates of $Q_\\ell$ can get noisy; therefore, when $Q_\\ell<0$ for $r < 10$ we set them to zero"
   ]
  },
  {
   "cell_type": "code",
   "execution_count": 9,
   "metadata": {},
   "outputs": [],
   "source": [
    "for i in range(4):\n",
    "    w = np.where((Q_ell[i] < 0) & (r_centers < 10))\n",
    "    if(len(w[0]) != 0):\n",
    "        Q_ell[i, :w[0][-1]] = 0"
   ]
  },
  {
   "cell_type": "markdown",
   "metadata": {},
   "source": [
    "### c) Interpolate $Q_\\ell$ to a logspaced vector, and apply a gaussian filter to regularize the values"
   ]
  },
  {
   "cell_type": "code",
   "execution_count": 10,
   "metadata": {},
   "outputs": [],
   "source": [
    "# Interpolate Q_ell into a logspaced r so that it works well with FFTLog\n",
    "r_interp = np.logspace(-2, np.log10(r_centers.max()), len(r_centers))\n",
    "Q_interp = np.zeros((4, len(r_centers)))\n",
    "\n",
    "for i in range(4):\n",
    "    Q_interp[i] = np.interp(r_interp, r_centers, Q_ell[i])\n",
    "    \n",
    "w = np.where(Q_interp[0] >= 1)\n",
    "Q_interp[0,:w[0][-1]] = 1\n",
    "\n",
    "for i in range(4):\n",
    "    Q_interp[i,:] = gaussian_filter(Q_interp[i,:], 3)\n",
    "\n",
    "if(all_multipoles == False):\n",
    "    ell_index = np.arange(0,N_ell,1)\n",
    "    ell       = 2*ell_index\n",
    "if(all_multipoles == True):\n",
    "    ell_index = np.arange(0,N_ell,1)\n",
    "    ell       = ell_index"
   ]
  },
  {
   "cell_type": "markdown",
   "metadata": {},
   "source": [
    "## 4) Saving the results"
   ]
  },
  {
   "cell_type": "code",
   "execution_count": 11,
   "metadata": {},
   "outputs": [],
   "source": [
    "np.savetxt(f\"Q_ell/r_centers-L5000.dat\", r_interp)\n",
    "np.savetxt(f\"Q_ell/Q_ell-L5000.dat\", Q_interp)"
   ]
  },
  {
   "cell_type": "markdown",
   "metadata": {},
   "source": [
    "## 5) Loading the results"
   ]
  },
  {
   "cell_type": "code",
   "execution_count": 12,
   "metadata": {},
   "outputs": [
    {
     "data": {
      "text/plain": [
       "((125,), (4, 125))"
      ]
     },
     "execution_count": 12,
     "metadata": {},
     "output_type": "execute_result"
    }
   ],
   "source": [
    "r_interp = np.loadtxt(f\"Q_ell/r_centers-L5000.dat\")\n",
    "Q_interp = np.loadtxt(f\"Q_ell/Q_ell-L5000.dat\")\n",
    "r_interp.shape, Q_interp.shape"
   ]
  },
  {
   "cell_type": "markdown",
   "metadata": {},
   "source": [
    "## 6) Plotting the Q$_{\\ell}$s"
   ]
  },
  {
   "cell_type": "code",
   "execution_count": 13,
   "metadata": {},
   "outputs": [
    {
     "data": {
      "image/png": "[encoded data removed]",
      "text/plain": [
       "<Figure size 600x400 with 1 Axes>"
      ]
     },
     "metadata": {
      "needs_background": "light"
     },
     "output_type": "display_data"
    }
   ],
   "source": [
    "fig, ax = plt.subplots(dpi = 100)\n",
    "\n",
    "ax.set_xscale('log')\n",
    "ax.set_yscale('linear')\n",
    "\n",
    "ax.set_xlabel('$r[$Mpc$/h]$', fontsize = 14)\n",
    "ax.set_ylabel('$Q_{\\ell}$', fontsize = 14)\n",
    "\n",
    "for i in range(4):\n",
    "    ax.plot(r_interp, Q_interp[i], label = f'$\\ell = {i}$', linewidth = 0.9)\n",
    "\n",
    "ax.set_xlim(r_interp[0]*0.95, r_interp[-1]*1.05)\n",
    "\n",
    "ax.hlines(0, 0.001, 10**3, linewidth = 0.8, color = 'k')\n",
    "ax.hlines(1, 0.001, 10**3, linewidth = 0.8, color = 'k')\n",
    "\n",
    "ax.tick_params(axis = 'both', which = 'both', direction = 'in', \n",
    "               right = True, top = True)\n",
    "\n",
    "ax.legend()\n",
    "\n",
    "plt.savefig(f'Q_ell/L05000-Q_ell.pdf', bbox_inches='tight')"
   ]
  },
  {
   "cell_type": "markdown",
   "metadata": {},
   "source": [
    "## 7) Working with Q$_{\\ell}$s to obtain the window function W$_{\\ell}$"
   ]
  },
  {
   "cell_type": "markdown",
   "metadata": {},
   "source": [
    "Here we are deconvolving the expression\n",
    "\\begin{equation}\n",
    " Q ( \\mathbf{r} ) = \\int \\frac{d^3 \\mathbf{k}}{(2 \\pi)^3} e^{i \\mathbf{k \\cdot r}} |W (\\mathbf{k})|^2\n",
    "\\end{equation}"
   ]
  },
  {
   "cell_type": "markdown",
   "metadata": {},
   "source": [
    "### a) Deconvolving"
   ]
  },
  {
   "cell_type": "code",
   "execution_count": 14,
   "metadata": {},
   "outputs": [
    {
     "name": "stderr",
     "output_type": "stream",
     "text": [
      "/usr/local/lib/python3.8/dist-packages/mcfit/mcfit.py:126: UserWarning: The default value of lowring has been changed to False, set it to True if you cannot reproduce previous results\n",
      "  warnings.warn(\"The default value of lowring has been changed to False, \"\n",
      "/usr/local/lib/python3.8/dist-packages/mcfit/mcfit.py:217: UserWarning: The default value of extrap has been changed to False, set it to True if you cannot reproduce previous results\n",
      "  warnings.warn(\"The default value of extrap has been changed to False, \"\n"
     ]
    }
   ],
   "source": [
    "k_ell, W0 = mcfit.xi2P(r_interp, l = 0)(Q_interp[0,:])\n",
    "k_ell, W2 = mcfit.xi2P(r_interp, l = 2)(Q_interp[1,:])\n",
    "k_ell, W4 = mcfit.xi2P(r_interp, l = 4)(Q_interp[2,:])\n",
    "k_ell, W6 = mcfit.xi2P(r_interp, l = 6)(Q_interp[3,:])"
   ]
  },
  {
   "cell_type": "markdown",
   "metadata": {},
   "source": [
    "### b) Normalizing"
   ]
  },
  {
   "cell_type": "code",
   "execution_count": 15,
   "metadata": {},
   "outputs": [],
   "source": [
    "W0_W1 = W0/np.max(W0)\n",
    "W2_W1 = W2/np.max(W2)\n",
    "W4_W1 = W4/np.max(W4)\n",
    "W6_W1 = W6/np.max(W6)"
   ]
  },
  {
   "cell_type": "markdown",
   "metadata": {},
   "source": [
    "### c) Saving"
   ]
  },
  {
   "cell_type": "code",
   "execution_count": 16,
   "metadata": {},
   "outputs": [],
   "source": [
    "Wls = np.zeros(( 5, W0_W1.shape[0] ))\n",
    "Wls[0] = k_ell\n",
    "Wls[1] = W0_W1\n",
    "Wls[2] = W2_W1\n",
    "Wls[3] = W4_W1\n",
    "Wls[4] = W6_W1"
   ]
  },
  {
   "cell_type": "code",
   "execution_count": 17,
   "metadata": {},
   "outputs": [],
   "source": [
    "np.savetxt(f'Q_ell/L05000-Wls.dat', Wls.T)"
   ]
  },
  {
   "cell_type": "markdown",
   "metadata": {},
   "source": [
    "### d) Plotting"
   ]
  },
  {
   "cell_type": "code",
   "execution_count": 18,
   "metadata": {},
   "outputs": [
    {
     "data": {
      "image/png": "[encoded data removed]",
      "text/plain": [
       "<Figure size 600x400 with 1 Axes>"
      ]
     },
     "metadata": {
      "needs_background": "light"
     },
     "output_type": "display_data"
    }
   ],
   "source": [
    "fig, ax = plt.subplots(dpi = 100)\n",
    "\n",
    "ax.set_xscale('log')\n",
    "\n",
    "ax.plot(k_ell, np.abs(W0_W1)**2, color = '#1000DA', linewidth = 0.9, label = r'$\\ell = 0$')\n",
    "ax.plot(k_ell, np.abs(W2_W1)**2, color = '#FF0000', linewidth = 0.9, label = r'$\\ell = 2$')\n",
    "ax.plot(k_ell, np.abs(W4_W1)**2, color = '#26A905', linewidth = 0.9, label = r'$\\ell = 4$')\n",
    "ax.plot(k_ell, np.abs(W6_W1)**2, color = '#FFC300', linewidth = 0.9, label = r'$\\ell = 6$')\n",
    "\n",
    "ax.plot(np.zeros(10), np.zeros(10), color = 'k', linewidth = 1, label = '$W_1$')\n",
    "ax.plot(np.zeros(10), np.zeros(10), color = 'k', linewidth = 1, linestyle = '-.', label = '$W_4$')\n",
    "\n",
    "ax.set_xlim(7e-4,1e-1)\n",
    "\n",
    "ax.set_xlabel('$k[h/$Mpc$]$', fontsize=14)\n",
    "ax.set_ylabel('$|W_\\ell(k)|^2$', fontsize=14)\n",
    "\n",
    "ax.legend()\n",
    "\n",
    "ax.grid()\n",
    "\n",
    "plt.savefig(f'Q_ell/L05000-W_sq.pdf', bbox_inches='tight')"
   ]
  },
  {
   "cell_type": "markdown",
   "metadata": {},
   "source": [
    "## 8) Convolving Q$_{\\ell}$s with this window function"
   ]
  },
  {
   "cell_type": "code",
   "execution_count": 19,
   "metadata": {},
   "outputs": [
    {
     "name": "stdout",
     "output_type": "stream",
     "text": [
      "Time elapsed for CAMB + I/O: 0.9565224647521973\n",
      "CPU times: user 76.7 ms, sys: 13 µs, total: 76.7 ms\n",
      "Wall time: 1.03 s\n"
     ]
    },
    {
     "name": "stderr",
     "output_type": "stream",
     "text": [
      "/usr/local/lib/python3.8/dist-packages/mcfit/mcfit.py:157: UserWarning: input must be log-spaced\n",
      "  warnings.warn(\"input must be log-spaced\")\n",
      "/usr/local/lib/python3.8/dist-packages/mcfit/mcfit.py:126: UserWarning: The default value of lowring has been changed to False, set it to True if you cannot reproduce previous results\n",
      "  warnings.warn(\"The default value of lowring has been changed to False, \"\n",
      "/usr/local/lib/python3.8/dist-packages/mcfit/mcfit.py:217: UserWarning: The default value of extrap has been changed to False, set it to True if you cannot reproduce previous results\n",
      "  warnings.warn(\"The default value of extrap has been changed to False, \"\n"
     ]
    }
   ],
   "source": [
    "%%time\n",
    "\n",
    "rsd_pars = theory.rsd_params(b1 = np.asarray([1.0]), \n",
    "                             sigma_tot = np.asarray([300])) #Redshiftspace distortion parameters\n",
    "redshift = np.asarray([1.0])\n",
    "\n",
    "k_conv, Pk_conv = theory.convolved_multipoles(rsd_pars, my_cosmology, \n",
    "                                              my_code_options, r_centers,\n",
    "                                              Q_interp) # Theoretical Spectrum convolved with survey window function"
   ]
  },
  {
   "cell_type": "markdown",
   "metadata": {},
   "source": [
    "Saving it"
   ]
  },
  {
   "cell_type": "code",
   "execution_count": 20,
   "metadata": {},
   "outputs": [],
   "source": [
    "P_convolved = np.zeros( ( 3, k_conv.shape[0] ) )\n",
    "P_convolved[0] = k_conv\n",
    "P_convolved[1] = Pk_conv[0]['P0_z1.0']\n",
    "P_convolved[2] = Pk_conv[0]['P2_z1.0']"
   ]
  },
  {
   "cell_type": "code",
   "execution_count": 21,
   "metadata": {},
   "outputs": [],
   "source": [
    "np.savetxt(f'Q_ell/L05000-convolved_spectra.dat', P_convolved.T)"
   ]
  },
  {
   "cell_type": "markdown",
   "metadata": {},
   "source": [
    "## 9) Compute original multipoles for comparison"
   ]
  },
  {
   "cell_type": "markdown",
   "metadata": {},
   "source": [
    "Power spectrum using CAMB"
   ]
  },
  {
   "cell_type": "code",
   "execution_count": 22,
   "metadata": {},
   "outputs": [
    {
     "name": "stdout",
     "output_type": "stream",
     "text": [
      "Time elapsed for CAMB + I/O: 0.8947651386260986\n"
     ]
    }
   ],
   "source": [
    "Pk_dict = theory.power_spectrum(my_cosmology, my_code_options)"
   ]
  },
  {
   "cell_type": "markdown",
   "metadata": {},
   "source": [
    "Power spectrum multipoles of the redshift-space power spectrum"
   ]
  },
  {
   "cell_type": "code",
   "execution_count": 23,
   "metadata": {},
   "outputs": [],
   "source": [
    "M_dict = theory.pk_multipoles_gauss(rsd_pars, my_cosmology, my_code_options, \n",
    "                                    Nk = len(k_conv), k = Pk_dict['k'])"
   ]
  },
  {
   "cell_type": "markdown",
   "metadata": {},
   "source": [
    "This is the original/theoretical spectra"
   ]
  },
  {
   "cell_type": "code",
   "execution_count": 24,
   "metadata": {},
   "outputs": [],
   "source": [
    "P_mono = Pk_dict['Pk_'+str(redshift[0])]*M_dict['mono'][0][0]\n",
    "P_quad = Pk_dict['Pk_'+str(redshift[0])]*M_dict['quad'][0][0]\n",
    "P_hexa = Pk_dict['Pk_'+str(redshift[0])]*M_dict['hexa'][0][0]"
   ]
  },
  {
   "cell_type": "markdown",
   "metadata": {},
   "source": [
    "Saving it"
   ]
  },
  {
   "cell_type": "code",
   "execution_count": 25,
   "metadata": {},
   "outputs": [],
   "source": [
    "P_theoretical = np.zeros( ( 4, P_mono.shape[0] ) )\n",
    "P_theoretical[0] = Pk_dict['k']\n",
    "P_theoretical[1] = P_mono\n",
    "P_theoretical[2] = P_quad\n",
    "P_theoretical[3] = P_hexa"
   ]
  },
  {
   "cell_type": "code",
   "execution_count": 26,
   "metadata": {},
   "outputs": [],
   "source": [
    "np.savetxt(f'Q_ell/L05000-theoretical_spectra.dat', P_theoretical.T)"
   ]
  },
  {
   "cell_type": "markdown",
   "metadata": {},
   "source": [
    "## 10) Comparing the theoretical and computed convolved spectra"
   ]
  },
  {
   "cell_type": "markdown",
   "metadata": {},
   "source": [
    "### a) $k$ P$_{\\ell}$"
   ]
  },
  {
   "cell_type": "code",
   "execution_count": 27,
   "metadata": {},
   "outputs": [
    {
     "data": {
      "image/png": "[encoded data removed]",
      "text/plain": [
       "<Figure size 600x400 with 1 Axes>"
      ]
     },
     "metadata": {
      "needs_background": "light"
     },
     "output_type": "display_data"
    }
   ],
   "source": [
    "fig, ax = plt.subplots(dpi = 100)\n",
    "\n",
    "ax.set_xscale('log')\n",
    "\n",
    "ax.plot(k_conv, k_conv*Pk_conv[0]['P0_z1.0'], color = 'b', label = '$\\widehat{P}_0$', linewidth = 0.8)\n",
    "ax.plot(Pk_dict['k'], Pk_dict['k']*P_mono, color = 'b', linestyle = ':', linewidth = 0.8, label = '$P_0$')\n",
    "\n",
    "ax.plot(k_conv, k_conv*Pk_conv[0]['P2_z1.0'], color = 'r', label = '$\\widehat{P}_2$', linewidth = 0.8)\n",
    "ax.plot(Pk_dict['k'], Pk_dict['k']*P_quad, color = 'r', linestyle = ':', linewidth = 0.8, label = '$P_2$')\n",
    "\n",
    "ax.set_xlabel('$k[h/$Mpc$]$', fontsize = 16)\n",
    "ax.set_ylabel('$kP_\\ell[$Mpc$/h]^2$', fontsize = 16)\n",
    "\n",
    "ax.legend()\n",
    "\n",
    "plt.savefig(f'Q_ell/L05000-kP_ell.pdf', bbox_inches = 'tight')"
   ]
  },
  {
   "cell_type": "markdown",
   "metadata": {},
   "source": [
    "### b) P$_{\\ell}$"
   ]
  },
  {
   "cell_type": "code",
   "execution_count": 28,
   "metadata": {},
   "outputs": [
    {
     "data": {
      "image/png": "[encoded data removed]",
      "text/plain": [
       "<Figure size 600x400 with 1 Axes>"
      ]
     },
     "metadata": {
      "needs_background": "light"
     },
     "output_type": "display_data"
    }
   ],
   "source": [
    "fig, ax = plt.subplots(dpi = 100)\n",
    "\n",
    "ax.set_xscale('log')\n",
    "ax.set_yscale('log')\n",
    "\n",
    "ax.plot(k_conv, Pk_conv[0]['P0_z1.0'], color = 'b', label = '$\\widehat{P}_0$', linewidth = 0.8)\n",
    "ax.plot(Pk_dict['k'], P_mono, color = 'b', linestyle = ':', linewidth = 0.8, label = '$P_0$')\n",
    "\n",
    "ax.plot(k_conv, np.abs(Pk_conv[0]['P2_z1.0']), color = 'r', label = '$\\widehat{P}_2$', linewidth = 0.8)\n",
    "ax.plot(Pk_dict['k'], np.abs(P_quad), color = 'r', linestyle = ':', linewidth = 0.8, label = '$P_2$')\n",
    "\n",
    "ax.set_xlabel('$k[h/$Mpc$]$', fontsize = 16)\n",
    "ax.set_ylabel('$P_\\ell[$Mpc$/h]^3$', fontsize = 16)\n",
    "\n",
    "ax.legend()\n",
    "\n",
    "plt.savefig(f'Q_ell/L05000-P_ell.pdf', bbox_inches='tight')"
   ]
  }
 ],
 "metadata": {
  "kernelspec": {
   "display_name": "Python 3",
   "language": "python",
   "name": "python3"
  },
  "language_info": {
   "codemirror_mode": {
    "name": "ipython",
    "version": 3
   },
   "file_extension": ".py",
   "mimetype": "text/x-python",
   "name": "python",
   "nbconvert_exporter": "python",
   "pygments_lexer": "ipython3",
   "version": "3.8.10"
  }
 },
 "nbformat": 4,
 "nbformat_minor": 4
}
