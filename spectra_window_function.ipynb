{
 "cells": [
  {
   "cell_type": "markdown",
   "id": "a1dcd68d-da89-4eb6-a6ca-5d466cd0ecc7",
   "metadata": {},
   "source": [
    "# Computing the spectra to test the window function"
   ]
  },
  {
   "cell_type": "markdown",
   "id": "5b88286d-5e29-4931-84df-0154aeee45cf",
   "metadata": {},
   "source": [
    "### 0) Including the libraries"
   ]
  },
  {
   "cell_type": "code",
   "execution_count": 1,
   "id": "11f2a76f-2107-4937-b5b3-e0307439f2b2",
   "metadata": {},
   "outputs": [],
   "source": [
    "from catalog_specs import cat_specs #to set the catalog specifications\n",
    "from cosmo import cosmo #to set the cosmology\n",
    "from code_options import code_parameters #to set the cosmological parameters\n",
    "from converting_cats_in_cats_of_bins import * #To convert any halo catalog according to bins of mass\n",
    "from colossus.cosmology import cosmology #To compute bias\n",
    "from colossus.lss import bias #To compute bias\n",
    "from create_grids_from_xyz_cats_beta import * #to build the cats\n",
    "from MTPK_estimate_beta import * #to estimate the spectra\n",
    "import numpy as np\n",
    "import matplotlib.pyplot as plt"
   ]
  },
  {
   "cell_type": "markdown",
   "id": "bb955bff-ba1b-489f-becb-d7bec1dfa73e",
   "metadata": {},
   "source": [
    "### 1) Instantiating the parameters"
   ]
  },
  {
   "cell_type": "markdown",
   "id": "ad89b320-e19d-4214-b57b-3b0004dbcd09",
   "metadata": {},
   "source": [
    "The fiducial **specifications** about the **catalogs** are given by:"
   ]
  },
  {
   "cell_type": "code",
   "execution_count": 2,
   "id": "dd991542-3447-47df-a9a3-4ec8a62b7694",
   "metadata": {},
   "outputs": [
    {
     "name": "stdout",
     "output_type": "stream",
     "text": [
      "ntracers = 1\n",
      "n_maps = 1\n",
      "col_m = 6\n",
      "col_x = 0\n",
      "col_y = 1\n",
      "col_z = 2\n",
      "x_cat_min = -500.1\n",
      "y_cat_min = -500.1\n",
      "z_cat_min = 4995.0\n",
      "x_cat_max = 500.1\n",
      "y_cat_max = 500.1\n",
      "z_cat_max = 6001.0\n",
      "m_min = 11.5\n",
      "m_max = 13.0\n"
     ]
    }
   ],
   "source": [
    "cat_specs = cat_specs(ntracers = 1, n_maps = 1, \n",
    "                      x_cat_min = -500.1, y_cat_min = -500.1, z_cat_min = 4995.0,\n",
    "                     x_cat_max = 500.1, y_cat_max = 500.1, z_cat_max = 6001.0)\n",
    "cat_specs.parameters_print()"
   ]
  },
  {
   "cell_type": "markdown",
   "id": "31825c33-ecb0-4b1d-ad05-29b2c829a2b5",
   "metadata": {},
   "source": [
    "The **cosmology** is given by:"
   ]
  },
  {
   "cell_type": "code",
   "execution_count": 3,
   "id": "5bb66912-3774-4f1f-82a9-d03446bba154",
   "metadata": {},
   "outputs": [],
   "source": [
    "h = 0.6711\n",
    "zmin = 4.0 #Minimum redshift\n",
    "zmax = 7.8 #Maximum redshift\n",
    "zcentral = (zmin + zmax)/2. #Mean redshift in the data\n",
    "my_cosmology = cosmo(h = h, Omega0_b = 0.049, Omega0_cdm = 0.2685,\n",
    "              Omega0_k = 0.0, Omega0_DE = 0.6825, A_s = 2.1277e-9,\n",
    "              n_s = 0.9624, w0 = - 1.0, w1 = 0.0, z_re = 9.99999,\n",
    "              flat = True, gamma = 0.5454, zcentral = zcentral,\n",
    "                    matgrow = cosmo().f_evolving(0))"
   ]
  },
  {
   "cell_type": "code",
   "execution_count": 4,
   "id": "91923e25-9df3-44ba-8673-9a84573e7f3c",
   "metadata": {},
   "outputs": [
    {
     "name": "stdout",
     "output_type": "stream",
     "text": [
      "h = 0.6711\n",
      "Omega0_b = 0.049\n",
      "Omega0_cdm = 0.2685\n",
      "Omega0_k = 0.0\n",
      "Omega0_DE = 0.6825\n",
      "A_s = 2.1277e-09\n",
      "ln10e10AsA = 3.057626677091581\n",
      "n_s = 0.9624\n",
      "w0 = -1.0\n",
      "w1 = 0.0\n",
      "z_re = 9.99999\n",
      "flat = True\n",
      "gamma = 0.5454\n",
      "matgrow = 0.5252511834620611\n",
      "zcentral = 5.9\n",
      "c_light = 299792.458\n"
     ]
    }
   ],
   "source": [
    "my_cosmology.parameters_print()"
   ]
  },
  {
   "cell_type": "markdown",
   "id": "9c359803-73cd-4df7-83f2-2cf49c044d07",
   "metadata": {},
   "source": [
    "### 2) Catalogs"
   ]
  },
  {
   "cell_type": "code",
   "execution_count": 5,
   "id": "30e36d85-6a0b-4512-a7fe-957cca42743b",
   "metadata": {},
   "outputs": [
    {
     "data": {
      "text/plain": [
       "array([4.4812e-05])"
      ]
     },
     "execution_count": 5,
     "metadata": {},
     "output_type": "execute_result"
    }
   ],
   "source": [
    "MF = np.array([44812/(1000.**3)])\n",
    "MF"
   ]
  },
  {
   "cell_type": "code",
   "execution_count": 6,
   "id": "4e2e864a-b322-4b26-8fba-66c830b4eb31",
   "metadata": {},
   "outputs": [
    {
     "data": {
      "text/plain": [
       "[1.0]"
      ]
     },
     "execution_count": 6,
     "metadata": {},
     "output_type": "execute_result"
    }
   ],
   "source": [
    "b = [1.0]\n",
    "b"
   ]
  },
  {
   "cell_type": "markdown",
   "id": "a977c41d-b222-4ba6-9b83-d2d2ba3248c4",
   "metadata": {},
   "source": [
    "### 3) Setting `MTPK code` options\n",
    "\n",
    "Using the computed _mass function_ and _bias_"
   ]
  },
  {
   "cell_type": "code",
   "execution_count": 10,
   "id": "f648f1a8-bc76-40b8-8ce4-676ae99e9d68",
   "metadata": {},
   "outputs": [],
   "source": [
    "#Defining the code options\n",
    "my_code_options = code_parameters(verbose = True, method = 'FKP',\n",
    "                                  mas_method = 'CIC',\n",
    "                                  multipoles_order = 4,\n",
    "                                  do_cross_spectra = False, \n",
    "                                  ntracers = 1,\n",
    "                                  mass_fun = MF,\n",
    "                                  cell_size = 4.0,\n",
    "                                  n_x = 250, n_y = 250, n_z = 250,\n",
    "                                  n_x_orig = -125.0, n_y_orig = -125.0, n_z_orig = 5000.0,\n",
    "                                  use_kmin_phys = False, kmin_phys = 0.025,\n",
    "                                  use_kmax_phys = True, kmax_phys = 0.5,\n",
    "                                  tracer_bias = np.array(b))"
   ]
  },
  {
   "cell_type": "code",
   "execution_count": 11,
   "id": "aa106ed3-5057-4a3b-8c45-34d8822938cd",
   "metadata": {},
   "outputs": [
    {
     "name": "stdout",
     "output_type": "stream",
     "text": [
      "verbose = True\n",
      "method = FKP\n",
      "mas_method = CIC\n",
      "ntracers = 1\n",
      "use_kdip_phys = False\n",
      "kdip_phys = 0.005\n",
      "multipoles_order = 4\n",
      "do_cross_spectra = False\n",
      "use_padding = False\n",
      "padding_length = [10, 10, 10]\n",
      "use_theory_spectrum = False\n",
      "theory_spectrum_file = theory_spectrum_file.txt\n",
      "use_mask = False\n",
      "mask_filename = mask.hdf5\n",
      "mass_fun = [4.4812e-05]\n",
      "tracer_bias = [1.]\n",
      "cell_size = 4.0\n",
      "n_x = 250\n",
      "n_y = 250\n",
      "n_z = 250\n",
      "n_x_orig = -125.0\n",
      "n_y_orig = -125.0\n",
      "n_z_orig = 5000.0\n",
      "sel_fun_data = False\n",
      "sel_fun_file = sel_fun-N128_halos.hdf5\n",
      "kmin_bias = 0.05\n",
      "kmax_bias = 0.15\n",
      "kph_central = 0.1\n",
      "dkph_bin = 0.01\n",
      "use_kmin_phys = False\n",
      "kmin_phys = 0.025\n",
      "use_kmax_phys = True\n",
      "kmax_phys = 0.5\n",
      "whichspec = 1\n",
      "mult_sel_fun = 1.0\n",
      "shift_sel_fun = 0.0\n",
      "k_min_CAMB = 0.0001\n",
      "k_max_CAMB = 1.0\n",
      "use_redshifts = False\n",
      "mask_redshift = False\n",
      "save_mask = False\n",
      "save_mean_sel_fun = False\n",
      "split_tracers = False\n",
      "tracer_bins = [3.16e+11 1.00e+12 3.16e+12 1.00e+13]\n",
      "mask_spillover_cells = False\n",
      "batch_size = 1000000\n",
      "wrap = False\n"
     ]
    }
   ],
   "source": [
    "my_code_options.parameters_print()"
   ]
  },
  {
   "cell_type": "markdown",
   "id": "0503d441-ec4b-4cfb-998e-71568c4062ae",
   "metadata": {},
   "source": [
    "### 4) Creating the catalogs\n",
    "\n",
    "You can create the cats using `create_grids_from_xyz_cats_beta`"
   ]
  },
  {
   "cell_type": "code",
   "execution_count": 12,
   "id": "9e97a306-a113-4b0d-89ee-8a2669a621a8",
   "metadata": {},
   "outputs": [],
   "source": [
    "#User definitions about where to do each thing\n",
    "input_filename = 'window'\n",
    "filenames_catalogs = 'data/window/Data_RSD_xyz-L0-5000.dat'\n",
    "dir_out = \"maps/sims/window/\""
   ]
  },
  {
   "cell_type": "code",
   "execution_count": 13,
   "id": "46db2671-8b8b-42cb-89d9-89de84f5c8ac",
   "metadata": {},
   "outputs": [
    {
     "name": "stdout",
     "output_type": "stream",
     "text": [
      "\n",
      "Will load maps stored in files:\n",
      "[['data/window/Data_RSD_xyz-L0-5000.dat']]\n",
      "Dimensions of the grids: n_x, n_y, n_z = 250 250 250\n",
      "\n",
      "The actual catalog spans the ranges in x,y,z:\n",
      "x: -500.1 --> 500.1\n",
      "y: -500.1 --> 500.1\n",
      "z: 4995.0 --> 6001.0\n",
      "\n",
      "\n",
      "With the padding length, of  0 cells, the box will be filled with:\n",
      "x: ( 0 * 0 , 250 , 0 *0)\n",
      "y: ( 0 * 0 , 250 , 0 *0)\n",
      "z: ( 0 * 0 , 250 , 0 *0)\n",
      "\n",
      "Check: given the padding, your catalog should end at cartesian positions:\n",
      "max(x) = 1000.0\n",
      "max(y) = 1000.0\n",
      "max(z) = 1000.0\n",
      "\n",
      "Origin (0,0,0) of box will be considered to be displaced from the observer @Earth\n",
      "by these numbers of cells in each direction:    (This affects RSDs!)\n",
      "n_x_orig= -125.0\n",
      "n_y_orig= -125.0\n",
      "n_z_orig= 5000.0\n",
      "\n",
      "\n",
      "Mass assignement: Clouds in Cell (CiC)\n",
      "\n",
      "Processing catalog # 0\n",
      "Reading catalog for tracer 0\n",
      "Original catalog has 45120 objects\n",
      "Processing batch # 0 of 0\n",
      "Processing objects # 0 to 45120\n",
      "... after placing objects in grid there are 44812 objects.\n",
      "Final/original number: 99.32 %\n",
      "\n",
      "Saving grid of counts to file: maps/sims/window/Data_grid_000.hdf5\n",
      "Number of tracers per cell: [0.00286797]\n",
      "Done!\n"
     ]
    }
   ],
   "source": [
    "create_grids_from_xyz_cats(cat_specs, my_cosmology, my_code_options, \n",
    "                           input_filename, filenames_catalogs, dir_out)"
   ]
  },
  {
   "cell_type": "markdown",
   "id": "6692039a-6abd-42e1-91e6-11a39b916bda",
   "metadata": {},
   "source": [
    "### 5) Estimating the spectra\n",
    "\n",
    "You can estimate the spectra using the function inside `MTPK_estimate_beta` code. The `handle_data` is the same as the `input_file_name`"
   ]
  },
  {
   "cell_type": "code",
   "execution_count": 14,
   "id": "886b29b6-a5e4-4ac5-a5ac-3109cb44ef06",
   "metadata": {},
   "outputs": [],
   "source": [
    "#Some user options\n",
    "handle_data = \"window\"\n",
    "dir_maps = 'maps/sims/window/'\n",
    "dir_data = 'maps/data/window/'\n",
    "dir_specs = 'spectra/window/'"
   ]
  },
  {
   "cell_type": "code",
   "execution_count": 15,
   "id": "11e03f8d-729a-48d3-a3de-765baabc13ea",
   "metadata": {},
   "outputs": [
    {
     "name": "stdout",
     "output_type": "stream",
     "text": [
      "\n",
      "\n",
      "This is the Multi-tracer power spectrum estimator\n",
      "\n",
      "Handle of this run (fiducial spectra, biases, etc.):  window\n",
      "\n",
      "Beggining CAMB calculations\n",
      "\n",
      "Computing matter power spectrum for given cosmology...\n",
      "\n",
      ".\n",
      "Generating the k-space Grid...\n",
      ".\n",
      "Will use the N = 1  simulation-only maps contained in directory maps/sims/window/\n",
      ".\n",
      "Geometry: (nx,ny,nz) = (250,250,250),  cell_size=4.0 h^-1 Mpc\n",
      "Geometry including bounding box: (nx,ny,nz) = (250,250,250)\n",
      ".\n",
      "Using power spectrum from CAMB + HaloFit\n",
      ".\n",
      "----------------------------------\n",
      ".\n",
      "Will estimate modes up to k[h/Mpc] =  0.5000  in bins with Delta_k = 0.0100\n",
      ".\n",
      "----------------------------------\n",
      ".\n",
      "\n",
      "----------------------------------\n",
      "\n",
      "Central physical k values where spectra will be estimated: 0.1\n",
      "Initializing the k-binning matrix...\n",
      "Done with k-binning matrices. Time cost:  3.457 s\n",
      "Memory occupied by the binning matrix:  1016226\n",
      "Originally k_bar was defined as: ['0.0683', '0.0810', '0.0937']\n",
      "The true mean of k for each bin is: ['0.0683', '0.0811', '0.0938']\n",
      "\n",
      "----------------------------------\n",
      "\n",
      "Now estimating the power spectra...\n",
      "Starting power spectra estimation\n",
      "Initializing traditional (FKP) estimation toolbox...\n",
      "... done. Starting computations for each map (box) now.\n",
      "\n",
      "Loading simulated box # 0\n",
      "Total number of objects in this map: [44812.07]\n",
      "  Estimating FKP power spectra...\n",
      "   FKP shot noise for tracer 0  :  22328.269404832296\n",
      "  Effective biases of the simulated maps:\n",
      "   Fiducial= ['1.185']\n",
      "        FKP= ['11.423']\n",
      "Elapsed time for computation of spectra for this map: 20.2119\n",
      ".\n",
      "Total time cost for estimation of spectra:  20.212555408477783\n",
      "Applying mass assignement window function corrections...\n",
      "Done!\n"
     ]
    }
   ],
   "source": [
    "MTPK_estimate(cat_specs, my_cosmology, my_code_options, dir_maps, dir_data, dir_specs, handle_data = handle_data)"
   ]
  },
  {
   "cell_type": "markdown",
   "id": "dc3f79a1-6918-460f-abe1-0836110b9fa5",
   "metadata": {},
   "source": [
    "### 6) Some plots"
   ]
  },
  {
   "cell_type": "code",
   "execution_count": 16,
   "id": "b882b94b-9a9a-4264-abc0-0e44728f9fb1",
   "metadata": {},
   "outputs": [],
   "source": [
    "# Taking data\n",
    "P0_FKP = np.loadtxt('spectra/window/window_P0_FKP.dat')\n",
    "\n",
    "P2_FKP = np.loadtxt('spectra/window/window_P2_FKP.dat')\n",
    "\n",
    "P4_FKP = np.loadtxt('spectra/window/window_P4_FKP.dat')\n",
    "\n",
    "k = np.loadtxt('spectra/window/window_vec_k.dat')"
   ]
  },
  {
   "cell_type": "code",
   "execution_count": 17,
   "id": "bec865e7-07de-428e-8e8c-37a9cd861c0d",
   "metadata": {},
   "outputs": [],
   "source": [
    "n_bins = cat_specs.ntracers\n",
    "n_cats = cat_specs.n_maps\n",
    "n_k = k.shape[0]\n",
    "\n",
    "P0_FKP = P0_FKP.reshape(n_bins, n_cats, n_k)\n",
    "\n",
    "P2_FKP = P2_FKP.reshape(n_bins, n_cats, n_k)\n",
    "\n",
    "P4_FKP = P4_FKP.reshape(n_bins, n_cats, n_k)"
   ]
  },
  {
   "cell_type": "code",
   "execution_count": 18,
   "id": "3145eab2-1d5b-4749-aa76-6b43eb468ac7",
   "metadata": {},
   "outputs": [],
   "source": [
    "import theory as theory"
   ]
  },
  {
   "cell_type": "code",
   "execution_count": 19,
   "id": "bbd8dbce-1fe6-481f-99d8-69567545fd5b",
   "metadata": {},
   "outputs": [
    {
     "name": "stdout",
     "output_type": "stream",
     "text": [
      "Time elapsed for CAMB + I/O: 0.9847936630249023\n"
     ]
    }
   ],
   "source": [
    "Pk_dict = theory.power_spectrum(my_cosmology, my_code_options)"
   ]
  },
  {
   "cell_type": "code",
   "execution_count": 20,
   "id": "da9cb20d-2a75-4288-b39a-3bb743c6eeff",
   "metadata": {},
   "outputs": [
    {
     "data": {
      "text/plain": [
       "dict_keys(['k', 'Pk_5.9', 'r_s_drag', 'sigma_8'])"
      ]
     },
     "execution_count": 20,
     "metadata": {},
     "output_type": "execute_result"
    }
   ],
   "source": [
    "Pk_dict.keys()"
   ]
  },
  {
   "cell_type": "code",
   "execution_count": 21,
   "id": "67ab4f7c-7835-48c4-8288-3aceada46e64",
   "metadata": {},
   "outputs": [],
   "source": [
    "rsd_pars = theory.rsd_params(b1 = np.asarray([zcentral]),\n",
    "                             sigma_tot = np.asarray([300])) #Redshiftspace distortion parameters"
   ]
  },
  {
   "cell_type": "code",
   "execution_count": 22,
   "id": "79df4b2c-9539-4eba-b2da-3894478aee22",
   "metadata": {},
   "outputs": [],
   "source": [
    "M_dict = theory.pk_multipoles_gauss(rsd_pars, my_cosmology, my_code_options, \n",
    "                                    Nk = 463, k = Pk_dict['k'])"
   ]
  },
  {
   "cell_type": "code",
   "execution_count": 23,
   "id": "9340289f-a6c0-42b8-9c12-e4958370ead8",
   "metadata": {},
   "outputs": [],
   "source": [
    "redshift = np.asarray([zcentral])"
   ]
  },
  {
   "cell_type": "code",
   "execution_count": 24,
   "id": "29bae18b-d35a-4551-89f3-03b48ae40416",
   "metadata": {},
   "outputs": [
    {
     "data": {
      "text/plain": [
       "(463,)"
      ]
     },
     "execution_count": 24,
     "metadata": {},
     "output_type": "execute_result"
    }
   ],
   "source": [
    "P_mono = Pk_dict['Pk_'+str(redshift[0])]*M_dict['mono'][0][0]\n",
    "P_mono.shape"
   ]
  },
  {
   "cell_type": "code",
   "execution_count": 25,
   "id": "44a40bec-aa1e-4ef1-b02e-724c0738b07e",
   "metadata": {},
   "outputs": [
    {
     "data": {
      "text/plain": [
       "((1, 1, 49), (49,))"
      ]
     },
     "execution_count": 25,
     "metadata": {},
     "output_type": "execute_result"
    }
   ],
   "source": [
    "P0_FKP.shape, k.shape"
   ]
  },
  {
   "cell_type": "code",
   "execution_count": 26,
   "id": "91cee81e-06d6-41d6-b283-d4a12e9870d2",
   "metadata": {},
   "outputs": [
    {
     "data": {
      "text/plain": [
       "array([0.0072, 0.0172, 0.0272, 0.0372, 0.0472, 0.0572, 0.0672, 0.0772,\n",
       "       0.0872, 0.0972, 0.1072, 0.1172, 0.1272, 0.1372, 0.1472, 0.1572,\n",
       "       0.1672, 0.1772, 0.1872, 0.1972, 0.2072, 0.2172, 0.2272, 0.2372,\n",
       "       0.2472, 0.2572, 0.2672, 0.2772, 0.2872, 0.2972, 0.3072, 0.3172,\n",
       "       0.3272, 0.3372, 0.3472, 0.3572, 0.3672, 0.3772, 0.3872, 0.3972,\n",
       "       0.4072, 0.4172, 0.4272, 0.4372, 0.4472, 0.4572, 0.4672, 0.4772,\n",
       "       0.4872])"
      ]
     },
     "execution_count": 26,
     "metadata": {},
     "output_type": "execute_result"
    }
   ],
   "source": [
    "k"
   ]
  },
  {
   "cell_type": "code",
   "execution_count": 27,
   "id": "9ce7aeb2-5442-43c3-9dad-ca67c397fbd5",
   "metadata": {},
   "outputs": [
    {
     "data": {
      "text/plain": [
       "1.7320508075688772"
      ]
     },
     "execution_count": 27,
     "metadata": {},
     "output_type": "execute_result"
    }
   ],
   "source": [
    "np.sqrt(3.)"
   ]
  },
  {
   "cell_type": "code",
   "execution_count": 28,
   "id": "5d4f0265-3258-413f-83d3-af3a3a71226d",
   "metadata": {},
   "outputs": [
    {
     "data": {
      "image/png": "[encoded data removed]",
      "text/plain": [
       "<Figure size 600x400 with 1 Axes>"
      ]
     },
     "metadata": {
      "needs_background": "light"
     },
     "output_type": "display_data"
    }
   ],
   "source": [
    "plt.figure(dpi = 100)\n",
    "for i in range(n_bins):\n",
    "    plt.loglog(k, np.mean(P0_FKP, axis = 1)[i]/3., label = f'FKP Monopole - Bin {i}')\n",
    "    plt.loglog(Pk_dict['k'], P_mono, color = 'b', linestyle = ':', linewidth = 0.8, label = '$P_0$')\n",
    "    plt.legend()"
   ]
  },
  {
   "cell_type": "code",
   "execution_count": 29,
   "id": "6c82adc0-0441-4088-878b-be891b3e351c",
   "metadata": {},
   "outputs": [
    {
     "data": {
      "image/png": "[encoded data removed]",
      "text/plain": [
       "<Figure size 600x400 with 1 Axes>"
      ]
     },
     "metadata": {
      "needs_background": "light"
     },
     "output_type": "display_data"
    }
   ],
   "source": [
    "plt.figure(dpi = 100)\n",
    "for i in range(n_bins):\n",
    "    plt.plot(k, np.mean(P2_FKP, axis = 1)[i], label = f'FKP Dipole - Bin {i}')\n",
    "    plt.legend()"
   ]
  },
  {
   "cell_type": "code",
   "execution_count": 30,
   "id": "2cb077b2-c22a-4ef6-9229-8609f7ae8588",
   "metadata": {},
   "outputs": [
    {
     "data": {
      "image/png": "[encoded data removed]",
      "text/plain": [
       "<Figure size 600x400 with 1 Axes>"
      ]
     },
     "metadata": {
      "needs_background": "light"
     },
     "output_type": "display_data"
    }
   ],
   "source": [
    "plt.figure(dpi = 100)\n",
    "for i in range(n_bins):\n",
    "    plt.plot(k, np.mean(P4_FKP, axis = 1)[i], label = f'FKP Quadrupole - Bin {i}')\n",
    "    plt.legend()"
   ]
  },
  {
   "cell_type": "code",
   "execution_count": null,
   "id": "dc771810-ec59-4212-8a25-64a5f6dbbb94",
   "metadata": {},
   "outputs": [],
   "source": []
  },
  {
   "cell_type": "code",
   "execution_count": null,
   "id": "d57fe76e-fcbe-42b6-9acb-9e2fe878c1b8",
   "metadata": {},
   "outputs": [],
   "source": []
  }
 ],
 "metadata": {
  "kernelspec": {
   "display_name": "Python 3",
   "language": "python",
   "name": "python3"
  },
  "language_info": {
   "codemirror_mode": {
    "name": "ipython",
    "version": 3
   },
   "file_extension": ".py",
   "mimetype": "text/x-python",
   "name": "python",
   "nbconvert_exporter": "python",
   "pygments_lexer": "ipython3",
   "version": "3.8.10"
  }
 },
 "nbformat": 4,
 "nbformat_minor": 5
}
