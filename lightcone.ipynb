{
 "cells": [
  {
   "cell_type": "code",
   "execution_count": 1,
   "id": "4c2fd609-6bb6-4489-a1ef-1099d0027472",
   "metadata": {},
   "outputs": [],
   "source": [
    "from catalog_specs import cat_specs #to set the catalog specifications\n",
    "from cosmo import cosmo #to set the cosmology\n",
    "from code_options import code_parameters #to set the cosmological parameters\n",
    "from converting_cats_in_cats_of_bins import * #To convert any halo catalog according to bins of mass\n",
    "from colossus.cosmology import cosmology #To compute bias\n",
    "from colossus.lss import bias #To compute bias\n",
    "from create_grids_from_xyz_cats_beta import * #to build the cats\n",
    "from MTPK_estimate_beta import * #to estimate the spectra\n",
    "import numpy as np\n",
    "import matplotlib.pyplot as plt"
   ]
  },
  {
   "cell_type": "code",
   "execution_count": 2,
   "id": "d2679fde-35e6-4e6d-824f-d07b9bd922f8",
   "metadata": {},
   "outputs": [
    {
     "name": "stdout",
     "output_type": "stream",
     "text": [
      "nhalos = 1\n",
      "n_maps = 1\n",
      "col_m = 6\n",
      "col_x = 0\n",
      "col_y = 1\n",
      "col_z = 2\n",
      "x_cat_min = -140.52\n",
      "y_cat_min = -140.56\n",
      "z_cat_min = -139.75\n",
      "x_cat_max = 820.3\n",
      "y_cat_max = 820.3\n",
      "z_cat_max = 819.67\n",
      "m_min = 10.95\n",
      "m_max = 14.32\n"
     ]
    }
   ],
   "source": [
    "cat_specs = cat_specs(nhalos = 1, n_maps = 1, x_cat_min = -140.52,\n",
    "                           y_cat_min = -140.56, z_cat_min = -139.75, \n",
    "                           x_cat_max = 820.30, y_cat_max = 820.30,\n",
    "                           z_cat_max = 819.67, m_min = 10.95, \n",
    "                           m_max = 14.32)\n",
    "cat_specs.parameters_print()"
   ]
  },
  {
   "cell_type": "code",
   "execution_count": 3,
   "id": "b054144f-0b3b-4c4d-b7de-e7f535c28d56",
   "metadata": {},
   "outputs": [
    {
     "name": "stdout",
     "output_type": "stream",
     "text": [
      "h = 0.678\n",
      "Omega0_b = 0.048206\n",
      "Omega0_cdm = 0.2589\n",
      "Omega0_k = 0.0\n",
      "Omega0_DE = 0.692894\n",
      "A_s = 2.1867466842075255e-09\n",
      "ln10e10AsA = 3.085\n",
      "n_s = 0.96\n",
      "w0 = -1.0\n",
      "w1 = 0.0\n",
      "z_re = 9.99999\n",
      "flat = True\n",
      "gamma = 0.5454\n",
      "matgrow = 0.5252511834620611\n",
      "zcentral = 1.0\n",
      "c_light = 299792.458\n"
     ]
    }
   ],
   "source": [
    "mg_phe = cosmo().f_phenomenological()\n",
    "my_cosmology = cosmo(matgrow = mg_phe)\n",
    "my_cosmology.parameters_print()"
   ]
  },
  {
   "cell_type": "code",
   "execution_count": 5,
   "id": "dcf75039-afb9-4cc5-b637-b9a480b4cc88",
   "metadata": {},
   "outputs": [
    {
     "name": "stdout",
     "output_type": "stream",
     "text": [
      "verbose = True\n",
      "method = both\n",
      "mas_method = CIC\n",
      "nhalos = 1\n",
      "use_kdip_phys = False\n",
      "kdip_phys = 0.005\n",
      "multipoles_order = 4\n",
      "do_cross_spectra = False\n",
      "use_padding = False\n",
      "padding_length = [10, 10, 10]\n",
      "use_theory_spectrum = False\n",
      "theory_spectrum_file = theory_spectrum_file.txt\n",
      "use_mask = False\n",
      "mask_filename = mask.hdf5\n",
      "mass_fun = 0.01\n",
      "halo_bias = 1.0\n",
      "cell_size = 8.0\n",
      "n_x = 120\n",
      "n_y = 120\n",
      "n_z = 120\n",
      "n_x_orig = -60.0\n",
      "n_y_orig = -60.0\n",
      "n_z_orig = 60.0\n",
      "sel_fun_data = False\n",
      "sel_fun_file = sel_fun-N128_halos.hdf5\n",
      "kmin_bias = 0.05\n",
      "kmax_bias = 0.15\n",
      "kph_central = 0.1\n",
      "dkph_bin = 0.01\n",
      "use_kmin_phys = False\n",
      "kmin_phys = 0.05\n",
      "use_kmax_phys = True\n",
      "kmax_phys = 1.0\n",
      "whichspec = 1\n",
      "use_cell_low_count_thresh = False\n",
      "cell_low_count_thresh = 0.0\n",
      "mult_sel_fun = 1.0\n",
      "shift_sel_fun = 0.0\n",
      "k_min_CAMB = 0.0001\n",
      "k_max_CAMB = 1.0\n",
      "use_redshifts = False\n",
      "mask_redshift = False\n",
      "save_mask = False\n",
      "save_mean_sel_fun = False\n",
      "split_tracers = False\n",
      "tracer_bins = [3.16e+11 1.00e+12 3.16e+12 1.00e+13]\n",
      "mask_spillover_cells = False\n",
      "batch_size = 1000000\n",
      "wrap = False\n"
     ]
    }
   ],
   "source": [
    "#Defining the code options\n",
    "my_code_options = code_parameters(method = 'both',\n",
    "                                  cell_size = 8.0,\n",
    "                                  mas_method = 'CIC',\n",
    "                                  multipoles_order = 4,\n",
    "                                  do_cross_spectra = False, \n",
    "                                  nhalos = 1,\n",
    "                                  mass_fun = np.array(0.01),\n",
    "                                  halo_bias = np.array(1.0),\n",
    "                                  n_x = 120, n_y = 120, n_z = 120,\n",
    "                                  n_x_orig = -60., \n",
    "                                  n_y_orig = -60.,\n",
    "                                  n_z_orig = 60.,\n",
    "                                  verbose = True)\n",
    "my_code_options.parameters_print()"
   ]
  },
  {
   "cell_type": "code",
   "execution_count": 5,
   "id": "9c612ddd-f5b1-417f-9ab4-24bf5b6cefb5",
   "metadata": {},
   "outputs": [],
   "source": [
    "#Some user options\n",
    "handle_data = \"lightcone\"\n",
    "dir_maps = 'maps/sims/lightcone/'\n",
    "dir_data = 'maps/data/lightcone/'\n",
    "dir_specs = 'spectra/lightcone/'"
   ]
  },
  {
   "cell_type": "code",
   "execution_count": null,
   "id": "548780bf-4a77-43a7-94b4-c3c97f6fd93b",
   "metadata": {},
   "outputs": [
    {
     "name": "stdout",
     "output_type": "stream",
     "text": [
      "\n",
      "\n",
      "This is the Multi-tracer power spectrum estimator\n",
      "\n",
      "Handle of this run (fiducial spectra, biases, etc.):  lightcone\n",
      "\n",
      "Beggining CAMB calculations\n",
      "\n",
      "Computing matter power spectrum for given cosmology...\n",
      "\n",
      ".\n",
      "Generating the k-space Grid...\n",
      ".\n"
     ]
    }
   ],
   "source": [
    "MTPK_estimate(cat_specs, my_cosmology, my_code_options, dir_maps, dir_data, dir_specs, handle_data = handle_data)"
   ]
  },
  {
   "cell_type": "code",
   "execution_count": null,
   "id": "8b0ab13f-3523-49ad-8085-3c157516a794",
   "metadata": {},
   "outputs": [],
   "source": []
  }
 ],
 "metadata": {
  "kernelspec": {
   "display_name": "Python 3",
   "language": "python",
   "name": "python3"
  },
  "language_info": {
   "codemirror_mode": {
    "name": "ipython",
    "version": 3
   },
   "file_extension": ".py",
   "mimetype": "text/x-python",
   "name": "python",
   "nbconvert_exporter": "python",
   "pygments_lexer": "ipython3",
   "version": "3.8.10"
  }
 },
 "nbformat": 4,
 "nbformat_minor": 5
}
